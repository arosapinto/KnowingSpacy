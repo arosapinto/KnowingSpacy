{
 "cells": [
  {
   "cell_type": "code",
   "execution_count": 2,
   "metadata": {},
   "outputs": [
    {
     "name": "stdout",
     "output_type": "stream",
     "text": [
      "Collecting ml-datasets\n",
      "  Downloading ml_datasets-0.2.0-py3-none-any.whl (15 kB)\n",
      "Requirement already satisfied: catalogue<3.0.0,>=0.2.0 in c:\\users\\apinto\\anaconda3\\envs\\projeto_apspacy\\lib\\site-packages (from ml-datasets) (2.0.7)\n",
      "Requirement already satisfied: tqdm<5.0.0,>=4.10.0 in c:\\users\\apinto\\anaconda3\\envs\\projeto_apspacy\\lib\\site-packages (from ml-datasets) (4.64.0)\n",
      "Requirement already satisfied: srsly<3.0.0,>=1.0.1 in c:\\users\\apinto\\anaconda3\\envs\\projeto_apspacy\\lib\\site-packages (from ml-datasets) (2.4.2)\n",
      "Requirement already satisfied: numpy>=1.7.0 in c:\\users\\apinto\\anaconda3\\envs\\projeto_apspacy\\lib\\site-packages (from ml-datasets) (1.22.3)\n",
      "Requirement already satisfied: colorama in c:\\users\\apinto\\anaconda3\\envs\\projeto_apspacy\\lib\\site-packages (from tqdm<5.0.0,>=4.10.0->ml-datasets) (0.4.4)\n",
      "Installing collected packages: ml-datasets\n",
      "Successfully installed ml-datasets-0.2.0\n"
     ]
    }
   ],
   "source": [
    "#!pip install ml-datasets"
   ]
  },
  {
   "cell_type": "code",
   "execution_count": 2,
   "metadata": {},
   "outputs": [],
   "source": [
    "import spacy\n",
    "from spacy.tokens import DocBin\n",
    "from ml_datasets import imdb"
   ]
  },
  {
   "cell_type": "code",
   "execution_count": 3,
   "metadata": {},
   "outputs": [],
   "source": [
    "train_data, valid_data = imdb()"
   ]
  },
  {
   "cell_type": "code",
   "execution_count": 6,
   "metadata": {},
   "outputs": [
    {
     "name": "stdout",
     "output_type": "stream",
     "text": [
      "('Greetings again from the darkness. Remember all the \"What happened to Woody Allen?\" jokes? Even Mr. Allen poked fun at the fans who wanted him to continue making his same \"funny\" films. As with any great artist, Mr. Allen\\'s craft evolved over the years and he lost some fans, while picking up others. Last year\\'s masterpiece \"Matchpoint\" showed he is still every bit as relevant and poignant as he was in the days of \"Annie Hall\" and \"Manhattan\". What is most striking to us 40 plus year fans is that Mr. New York himself seems to have a bit of a crush on the mother country. Apparently he actually likes England!! While filming \"Matchpoint\", Mr. Allen became enamored with Scarlett Johansson and her real life spirit and sense of humor. This attraction motivated him to write his best comedy in years. Scarlett, while risking overexposure, must be given credit for not just picking films that cast her in some glamorous light. She is unafraid to look and act like a real person. In \"Scoop\", she flashes some real on screen comedy chops and, in many scenes, delivers the real punchline to Mr. Allen\\'s straight man. Of course, any time Mr. Allen decides to put himself in front of the camera, he will get more than his share of one liners and social commentaries in - which is fine, because few do it better.\\n\\n\\n\\nVery nice support work from Ian McShane and Hugh Jackman. In fact, Mr. Jackman provides a few glimpses into why many of us thought him the best choice to replace Brosnan as the new Bond. As with most of Allen\\'s films, the star is the script, not the actors. Although Scarlett delivers superbly here and is a nice contrast to the polished Allen and Jackman, what makes this one crackle is the dialogue ... especially the banter between Allen and Scarlett. If you are not a huge Woody the actor fan, fear not. He does limit his screen time and he is quite effective, except in two or three brief scenes that almost seem out of place. Another Woodman tradition is a sparkling musical background and \"Scoop\" is no exception ... especially the Strauss composition.\\n\\n\\n\\n\"Scoop\" is a nice cross between \"Annie Hall\" and the best of the Marx Brothers films or the Cary Grant comedies. Yes it is an adult comedy, but it is actually very cute ... especially for a serial killer and talking ghost comedy!!', 'pos')\n",
      "<class 'list'>\n",
      "<class 'tuple'>\n"
     ]
    }
   ],
   "source": [
    "print(train_data[0])\n",
    "print(type(train_data))\n",
    "print(type(train_data[1]))"
   ]
  },
  {
   "cell_type": "code",
   "execution_count": 7,
   "metadata": {},
   "outputs": [],
   "source": [
    "nlp = spacy.load(\"en_core_web_sm\")"
   ]
  },
  {
   "cell_type": "code",
   "execution_count": 8,
   "metadata": {},
   "outputs": [],
   "source": [
    "def make_docs(data):\n",
    "    docs = []\n",
    "    for doc, label in nlp.pipe(data, as_tuples=True):\n",
    "        if label == 'Negativo':\n",
    "            doc.cats[\"positive\"] = 0\n",
    "            doc.cats[\"negative\"] = 1\n",
    "        else:\n",
    "            doc.cats[\"positive\"] = 1\n",
    "            doc.cats[\"negative\"] = 0\n",
    "        docs.append(doc)\n",
    "    return (docs)"
   ]
  },
  {
   "cell_type": "code",
   "execution_count": 9,
   "metadata": {},
   "outputs": [],
   "source": [
    "## create training and validation data\n",
    "num_texts = 500 # amount of validation and training generated\n",
    "\n",
    "train_docs = make_docs(train_data[:num_texts])\n",
    "doc_bin = DocBin(docs=train_docs)\n",
    "doc_bin.to_disk(\"./C:/Test folder/KnowingSpacy/self learning/train.spacy\")\n",
    "\n",
    "valid_docs = make_docs(valid_data[:num_texts])\n",
    "doc_bin= DocBin(docs=valid_docs)\n",
    "doc_bin.to_disk(\"./C:/Test folder/KnowingSpacy/self learning/valid.spacy\")"
   ]
  },
  {
   "cell_type": "code",
   "execution_count": 10,
   "metadata": {},
   "outputs": [],
   "source": [
    "### To train the model\n",
    "\n",
    "# 1. create a base_config_model and copy data from  https://spacy.io/usage/training#quickstart\n",
    "# 2. update base_config.cfg file with the train and dev paths\n",
    "\n",
    "# anaconda prompt\n",
    "# 3.python -m spacy init fill-config ./base_config.cfg ./config.cfg\n",
    "# 4. open config\n",
    "# 3. python -m spacy train config.cfg --output ./output"
   ]
  }
 ],
 "metadata": {
  "interpreter": {
   "hash": "610efb86e122df48aab22117e29509e00a585e4642c6384735721f42f83ab1a2"
  },
  "kernelspec": {
   "display_name": "Python 3.8.13 ('projeto_apspacy')",
   "language": "python",
   "name": "python3"
  },
  "language_info": {
   "codemirror_mode": {
    "name": "ipython",
    "version": 3
   },
   "file_extension": ".py",
   "mimetype": "text/x-python",
   "name": "python",
   "nbconvert_exporter": "python",
   "pygments_lexer": "ipython3",
   "version": "3.8.13"
  },
  "orig_nbformat": 4
 },
 "nbformat": 4,
 "nbformat_minor": 2
}
