{
 "cells": [
  {
   "cell_type": "markdown",
   "metadata": {},
   "source": [
    "### Test model"
   ]
  },
  {
   "cell_type": "code",
   "execution_count": 3,
   "metadata": {},
   "outputs": [],
   "source": [
    "import spacy\n",
    "from ml_datasets import imdb"
   ]
  },
  {
   "cell_type": "code",
   "execution_count": 4,
   "metadata": {},
   "outputs": [
    {
     "ename": "KeyboardInterrupt",
     "evalue": "",
     "output_type": "error",
     "traceback": [
      "\u001b[1;31m---------------------------------------------------------------------------\u001b[0m",
      "\u001b[1;31mKeyboardInterrupt\u001b[0m                         Traceback (most recent call last)",
      "\u001b[1;32mc:\\Test folder\\KnowingSpacy\\self learning\\classspacy_test.ipynb Cell 3'\u001b[0m in \u001b[0;36m<cell line: 1>\u001b[1;34m()\u001b[0m\n\u001b[1;32m----> <a href='vscode-notebook-cell:/c%3A/Test%20folder/KnowingSpacy/self%20learning/classspacy_test.ipynb#ch0000002?line=0'>1</a>\u001b[0m train_data, valid_data \u001b[39m=\u001b[39m imdb()\n",
      "File \u001b[1;32m~\\anaconda3\\envs\\projeto_apspacy\\lib\\site-packages\\ml_datasets\\loaders\\imdb.py:16\u001b[0m, in \u001b[0;36mimdb\u001b[1;34m(loc, train_limit, dev_limit)\u001b[0m\n\u001b[0;32m     <a href='file:///c%3A/Users/APinto/anaconda3/envs/projeto_apspacy/lib/site-packages/ml_datasets/loaders/imdb.py?line=13'>14</a>\u001b[0m train_loc \u001b[39m=\u001b[39m Path(loc) \u001b[39m/\u001b[39m \u001b[39m\"\u001b[39m\u001b[39mtrain\u001b[39m\u001b[39m\"\u001b[39m\n\u001b[0;32m     <a href='file:///c%3A/Users/APinto/anaconda3/envs/projeto_apspacy/lib/site-packages/ml_datasets/loaders/imdb.py?line=14'>15</a>\u001b[0m test_loc \u001b[39m=\u001b[39m Path(loc) \u001b[39m/\u001b[39m \u001b[39m\"\u001b[39m\u001b[39mtest\u001b[39m\u001b[39m\"\u001b[39m\n\u001b[1;32m---> <a href='file:///c%3A/Users/APinto/anaconda3/envs/projeto_apspacy/lib/site-packages/ml_datasets/loaders/imdb.py?line=15'>16</a>\u001b[0m \u001b[39mreturn\u001b[39;00m read_imdb(train_loc, limit\u001b[39m=\u001b[39mtrain_limit), read_imdb(test_loc, limit\u001b[39m=\u001b[39;49mdev_limit)\n",
      "File \u001b[1;32m~\\anaconda3\\envs\\projeto_apspacy\\lib\\site-packages\\ml_datasets\\loaders\\imdb.py:32\u001b[0m, in \u001b[0;36mread_imdb\u001b[1;34m(data_dir, limit)\u001b[0m\n\u001b[0;32m     <a href='file:///c%3A/Users/APinto/anaconda3/envs/projeto_apspacy/lib/site-packages/ml_datasets/loaders/imdb.py?line=29'>30</a>\u001b[0m examples \u001b[39m=\u001b[39m []\n\u001b[0;32m     <a href='file:///c%3A/Users/APinto/anaconda3/envs/projeto_apspacy/lib/site-packages/ml_datasets/loaders/imdb.py?line=30'>31</a>\u001b[0m \u001b[39mfor\u001b[39;00m loc, gold_label \u001b[39min\u001b[39;00m locs:\n\u001b[1;32m---> <a href='file:///c%3A/Users/APinto/anaconda3/envs/projeto_apspacy/lib/site-packages/ml_datasets/loaders/imdb.py?line=31'>32</a>\u001b[0m     \u001b[39mwith\u001b[39;00m loc\u001b[39m.\u001b[39;49mopen(\u001b[39m\"\u001b[39;49m\u001b[39mr\u001b[39;49m\u001b[39m\"\u001b[39;49m, encoding\u001b[39m=\u001b[39;49m\u001b[39m\"\u001b[39;49m\u001b[39mutf8\u001b[39;49m\u001b[39m\"\u001b[39;49m) \u001b[39mas\u001b[39;00m file_:\n\u001b[0;32m     <a href='file:///c%3A/Users/APinto/anaconda3/envs/projeto_apspacy/lib/site-packages/ml_datasets/loaders/imdb.py?line=32'>33</a>\u001b[0m         text \u001b[39m=\u001b[39m file_\u001b[39m.\u001b[39mread()\n\u001b[0;32m     <a href='file:///c%3A/Users/APinto/anaconda3/envs/projeto_apspacy/lib/site-packages/ml_datasets/loaders/imdb.py?line=33'>34</a>\u001b[0m     text \u001b[39m=\u001b[39m text\u001b[39m.\u001b[39mreplace(\u001b[39m\"\u001b[39m\u001b[39m<br />\u001b[39m\u001b[39m\"\u001b[39m, \u001b[39m\"\u001b[39m\u001b[39m\\n\u001b[39;00m\u001b[39m\\n\u001b[39;00m\u001b[39m\"\u001b[39m)\n",
      "File \u001b[1;32m~\\anaconda3\\envs\\projeto_apspacy\\lib\\pathlib.py:1222\u001b[0m, in \u001b[0;36mPath.open\u001b[1;34m(self, mode, buffering, encoding, errors, newline)\u001b[0m\n\u001b[0;32m   <a href='file:///c%3A/Users/APinto/anaconda3/envs/projeto_apspacy/lib/pathlib.py?line=1219'>1220</a>\u001b[0m \u001b[39mif\u001b[39;00m \u001b[39mself\u001b[39m\u001b[39m.\u001b[39m_closed:\n\u001b[0;32m   <a href='file:///c%3A/Users/APinto/anaconda3/envs/projeto_apspacy/lib/pathlib.py?line=1220'>1221</a>\u001b[0m     \u001b[39mself\u001b[39m\u001b[39m.\u001b[39m_raise_closed()\n\u001b[1;32m-> <a href='file:///c%3A/Users/APinto/anaconda3/envs/projeto_apspacy/lib/pathlib.py?line=1221'>1222</a>\u001b[0m \u001b[39mreturn\u001b[39;00m io\u001b[39m.\u001b[39;49mopen(\u001b[39mself\u001b[39;49m, mode, buffering, encoding, errors, newline,\n\u001b[0;32m   <a href='file:///c%3A/Users/APinto/anaconda3/envs/projeto_apspacy/lib/pathlib.py?line=1222'>1223</a>\u001b[0m                opener\u001b[39m=\u001b[39;49m\u001b[39mself\u001b[39;49m\u001b[39m.\u001b[39;49m_opener)\n",
      "File \u001b[1;32m~\\anaconda3\\envs\\projeto_apspacy\\lib\\pathlib.py:1078\u001b[0m, in \u001b[0;36mPath._opener\u001b[1;34m(self, name, flags, mode)\u001b[0m\n\u001b[0;32m   <a href='file:///c%3A/Users/APinto/anaconda3/envs/projeto_apspacy/lib/pathlib.py?line=1075'>1076</a>\u001b[0m \u001b[39mdef\u001b[39;00m \u001b[39m_opener\u001b[39m(\u001b[39mself\u001b[39m, name, flags, mode\u001b[39m=\u001b[39m\u001b[39m0o666\u001b[39m):\n\u001b[0;32m   <a href='file:///c%3A/Users/APinto/anaconda3/envs/projeto_apspacy/lib/pathlib.py?line=1076'>1077</a>\u001b[0m     \u001b[39m# A stub for the opener argument to built-in open()\u001b[39;00m\n\u001b[1;32m-> <a href='file:///c%3A/Users/APinto/anaconda3/envs/projeto_apspacy/lib/pathlib.py?line=1077'>1078</a>\u001b[0m     \u001b[39mreturn\u001b[39;00m \u001b[39mself\u001b[39;49m\u001b[39m.\u001b[39;49m_accessor\u001b[39m.\u001b[39;49mopen(\u001b[39mself\u001b[39;49m, flags, mode)\n",
      "\u001b[1;31mKeyboardInterrupt\u001b[0m: "
     ]
    }
   ],
   "source": [
    "train_data, valid_data = imdb()"
   ]
  },
  {
   "cell_type": "code",
   "execution_count": 14,
   "metadata": {},
   "outputs": [],
   "source": [
    "text = train_data[3000] #outsides training and validation data"
   ]
  },
  {
   "cell_type": "code",
   "execution_count": 15,
   "metadata": {},
   "outputs": [
    {
     "data": {
      "text/plain": [
       "list"
      ]
     },
     "execution_count": 15,
     "metadata": {},
     "output_type": "execute_result"
    }
   ],
   "source": [
    "type(train_data)"
   ]
  },
  {
   "cell_type": "code",
   "execution_count": 16,
   "metadata": {},
   "outputs": [
    {
     "data": {
      "text/plain": [
       "'pos'"
      ]
     },
     "execution_count": 16,
     "metadata": {},
     "output_type": "execute_result"
    }
   ],
   "source": [
    "text[1]"
   ]
  },
  {
   "cell_type": "code",
   "execution_count": 2,
   "metadata": {},
   "outputs": [
    {
     "ename": "NameError",
     "evalue": "name 'spacy' is not defined",
     "output_type": "error",
     "traceback": [
      "\u001b[1;31m---------------------------------------------------------------------------\u001b[0m",
      "\u001b[1;31mNameError\u001b[0m                                 Traceback (most recent call last)",
      "\u001b[1;32mc:\\Test folder\\KnowingSpacy\\self learning\\classspacy_test.ipynb Cell 7'\u001b[0m in \u001b[0;36m<cell line: 1>\u001b[1;34m()\u001b[0m\n\u001b[1;32m----> <a href='vscode-notebook-cell:/c%3A/Test%20folder/KnowingSpacy/self%20learning/classspacy_test.ipynb#ch0000006?line=0'>1</a>\u001b[0m nlp \u001b[39m=\u001b[39m spacy\u001b[39m.\u001b[39mload(\u001b[39m\"\u001b[39m\u001b[39moutput/model-best\u001b[39m\u001b[39m\"\u001b[39m)\n",
      "\u001b[1;31mNameError\u001b[0m: name 'spacy' is not defined"
     ]
    }
   ],
   "source": [
    "nlp = spacy.load(\"output/model-best\")"
   ]
  },
  {
   "cell_type": "code",
   "execution_count": 18,
   "metadata": {},
   "outputs": [],
   "source": [
    "nlp = spacy.load(\"output/model-last\")"
   ]
  },
  {
   "cell_type": "code",
   "execution_count": 1,
   "metadata": {},
   "outputs": [
    {
     "ename": "NameError",
     "evalue": "name 'nlp' is not defined",
     "output_type": "error",
     "traceback": [
      "\u001b[1;31m---------------------------------------------------------------------------\u001b[0m",
      "\u001b[1;31mNameError\u001b[0m                                 Traceback (most recent call last)",
      "\u001b[1;32mc:\\Test folder\\KnowingSpacy\\self learning\\classspacy_test.ipynb Cell 9'\u001b[0m in \u001b[0;36m<cell line: 1>\u001b[1;34m()\u001b[0m\n\u001b[1;32m----> <a href='vscode-notebook-cell:/c%3A/Test%20folder/KnowingSpacy/self%20learning/classspacy_test.ipynb#ch0000008?line=0'>1</a>\u001b[0m doc \u001b[39m=\u001b[39mnlp(text[\u001b[39m0\u001b[39m])\n",
      "\u001b[1;31mNameError\u001b[0m: name 'nlp' is not defined"
     ]
    }
   ],
   "source": [
    "doc =nlp(text[0])"
   ]
  },
  {
   "cell_type": "code",
   "execution_count": 20,
   "metadata": {},
   "outputs": [
    {
     "name": "stdout",
     "output_type": "stream",
     "text": [
      "{'positive': 1.0, 'negative': 3.338160567441954e-18}\n"
     ]
    }
   ],
   "source": [
    "print(doc.cats)"
   ]
  },
  {
   "cell_type": "code",
   "execution_count": 21,
   "metadata": {},
   "outputs": [
    {
     "name": "stdout",
     "output_type": "stream",
     "text": [
      "('Julian Noble (Pierce Brosnan) is a hit-man. Or a \"facilitator of fatalities\", as he prefers to be called. He is also a drunk, a womaniser, and in the middle of a mid-life crisis. On a job in Mexico City, he bumps into Danny White (Greg Kinnear), an unconfident businessman who thinks he\\'s just nailed a recent pitch, but is unsure. They meet in the hotel bar late one night, after they\\'ve both had a few too many margaritas.\\n\\n\\n\\nSounds like the set-up for a by-the-numbers comedy thriller, doesn\\'t it? But it isn\\'t. Instead, The Matador is a funny and sometimes touching character study. It avoids every twist that the above summary would suggest, sometimes even setting them up just to gleefully tear them down. It is a film that respects it characters enough to just let them get on with it, without feeling the need to shove them into needless plot contrivances.\\n\\n\\n\\nBrosnan\\'s hit-man will inevitably be compared to his Bond, but this is unfair to both performances. Bond is a half-formed idea, a product of all that has gone before; while Julian is a fully-formed character with his own motivations and flaws. He has existed in his own shadowy, seedy world for so long that he has forgotten how to talk to another human being.\\n\\n\\n\\nWhen he meets Danny in the hotel bar, he sees his opposite: a normal guy with a normal job and normal problems. He envies Danny; the hit-man has become fed up with his life, sees himself edging ever closer to his inevitable \"burn out\", as he puts it. But when Danny opens up about the death of his only son, Julian tries to change the subject with a dirty joke. He is a man who has, in his own words, been \"running from any emotion.\" Kinnear holds his own opposite Brosnan\\'s performance, and injects Danny White with his effortless everyman charm. He is the perfect foil to Julian; while the latter is drunken bravado and hedonism, Danny is down to earth, with just a hint of eccentricity. But he too goes deeper than his established persona, showing us how far the everyman will go when faced with financial and familial ruin.\\n\\n\\n\\nThere is real chemistry between Brosnan and Kinnear. It is most visible in the film\\'s three key scenes: the hotel bar; a bullfight, during which Julian tells Danny what he does for a living, and takes him through a dress rehearsal of an assassination; and a scene in which Julian turns up at Danny\\'s house six months later. This scene also introduces us properly to Danny\\'s wife, Bean (yes, Bean). In another example of how much The Matador respects its characters, Bean (Hope Davis), instead of panicking at the presence of a hired killer in her house, merely asks with forced calm, \"Did you bring your gun?\" The script isn\\'t quite as good as could have been after maybe another rewrite. One or two lines seem a little forced, and a couple of the jokes need a little more work. But in the scenes where Julian and Danny (and later Bean) just talk, the writing is superb. The film feels no need to put the characters in any outlandish situations (other than meeting a hit-man, and said hit-man turning up on your doorstep). It just lets them talk, gently nudging them toward necessary plot points.\\n\\n\\n\\nThere is action, but only when it reflects on the characters. One notable instance is when Julian botches a job in Budapest because he keeps seeing himself through his rifles scope. The rest of the film is about the characters, how they interact, how they each affect one another. And, ultimately, it is about friendship, even in the most unlikely of places. At one point Julian tells Danny that he is his only friend. And he really means it.', 'pos')\n"
     ]
    }
   ],
   "source": [
    "print(text)"
   ]
  },
  {
   "cell_type": "code",
   "execution_count": 22,
   "metadata": {},
   "outputs": [
    {
     "name": "stdout",
     "output_type": "stream",
     "text": [
      "<class 'tuple'>\n"
     ]
    }
   ],
   "source": [
    "print(type(text))"
   ]
  }
 ],
 "metadata": {
  "interpreter": {
   "hash": "610efb86e122df48aab22117e29509e00a585e4642c6384735721f42f83ab1a2"
  },
  "kernelspec": {
   "display_name": "Python 3.8.13 ('projeto_apspacy')",
   "language": "python",
   "name": "python3"
  },
  "language_info": {
   "codemirror_mode": {
    "name": "ipython",
    "version": 3
   },
   "file_extension": ".py",
   "mimetype": "text/x-python",
   "name": "python",
   "nbconvert_exporter": "python",
   "pygments_lexer": "ipython3",
   "version": "3.8.13"
  },
  "orig_nbformat": 4
 },
 "nbformat": 4,
 "nbformat_minor": 2
}
