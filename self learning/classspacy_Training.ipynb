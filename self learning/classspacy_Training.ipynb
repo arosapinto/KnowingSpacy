{
 "cells": [
  {
   "cell_type": "code",
   "execution_count": 2,
   "metadata": {},
   "outputs": [
    {
     "name": "stdout",
     "output_type": "stream",
     "text": [
      "Collecting ml-datasets\n",
      "  Downloading ml_datasets-0.2.0-py3-none-any.whl (15 kB)\n",
      "Requirement already satisfied: catalogue<3.0.0,>=0.2.0 in c:\\users\\apinto\\anaconda3\\envs\\projeto_apspacy\\lib\\site-packages (from ml-datasets) (2.0.7)\n",
      "Requirement already satisfied: tqdm<5.0.0,>=4.10.0 in c:\\users\\apinto\\anaconda3\\envs\\projeto_apspacy\\lib\\site-packages (from ml-datasets) (4.64.0)\n",
      "Requirement already satisfied: srsly<3.0.0,>=1.0.1 in c:\\users\\apinto\\anaconda3\\envs\\projeto_apspacy\\lib\\site-packages (from ml-datasets) (2.4.2)\n",
      "Requirement already satisfied: numpy>=1.7.0 in c:\\users\\apinto\\anaconda3\\envs\\projeto_apspacy\\lib\\site-packages (from ml-datasets) (1.22.3)\n",
      "Requirement already satisfied: colorama in c:\\users\\apinto\\anaconda3\\envs\\projeto_apspacy\\lib\\site-packages (from tqdm<5.0.0,>=4.10.0->ml-datasets) (0.4.4)\n",
      "Installing collected packages: ml-datasets\n",
      "Successfully installed ml-datasets-0.2.0\n"
     ]
    }
   ],
   "source": [
    "#!pip install ml-datasets"
   ]
  },
  {
   "cell_type": "code",
   "execution_count": 3,
   "metadata": {},
   "outputs": [],
   "source": [
    "import spacy\n",
    "from spacy.tokens import DocBin\n",
    "from ml_datasets import imdb"
   ]
  },
  {
   "cell_type": "code",
   "execution_count": 4,
   "metadata": {},
   "outputs": [],
   "source": [
    "train_data, valid_data = imdb()"
   ]
  },
  {
   "cell_type": "code",
   "execution_count": 5,
   "metadata": {},
   "outputs": [
    {
     "name": "stdout",
     "output_type": "stream",
     "text": [
      "('Contains *spoilers* - also, my quotes may not be exact.\\n\\n\\n\\nEveryone always notes the satire in social commentary and economic parallels - how true. But to me, I see this movie as much more than that. I love the symbolism of this guy in a glowing white suit. There is so much confusion and filth in the world around him, but it won\\'t stick. Alec Guiness was the perfect guy to play this - his boyish grins and eternal curiousity are so appropriate:\\n\\n\\n\\n\"That\\'s ingenious - can you tell me, what is the ratio of ink to petrol?\"\\n\\n\\n\\nThe only moment of defeat is when he realizes that his invention hasn\\'t worked after all - standing there almost naked. Yet, more than shame is the simple disappointment that \"it didn\\'t work.\" He\\'s never really intimidated by people. Remember,\\n\\n\\n\\n\"But Sidney, we want to stop it too.\"\\n\\n\\n\\nBarely a moments hesitation before he\\'s off trying to get away again. Does he show any sign of the pain such a betrayal must\\'ve caused? No.\\n\\n\\n\\nAlso notable is Dapne\\'s role. She is sick and tired of money and power. She thinks she\\'s finally found love, outside of her father\\'s company. At first she doesn\\'t really care about Sidney anymore than anyone else. But that moment when he falls off her car and she goes back to see if maybe she killed him - and yet he is still thinking only of the beauty of his invention. She\\'s finally found something she thinks is worth living for. The funny thing is that it\\'s not even romance. It is friendship, but of such an ephemeral nature that the title almost doesn\\'t fit. It\\'s more admiration, and perhaps even inspiration.\\n\\n\\n\\nUpon her discovery that Michael has no real love for her, and that her father is completely incompetent to take care of her, she gives into cynicism and tries to temp Sidney. Fortunately she finds that there really are people in this world living for more than power, money and lust. What a refreshment:\\n\\n\\n\\n\"Thank you Sidney. If you would\\'ve said \\'yes\\' I think I\\'d have strangled you.\"\\n\\n\\n\\nI love the very end, when all of this crazy business seems to have come to nothing. But then, the bubbly, quirky beat starts up and Sidney goes off, his stride matching the tune: dauntless. Where is Daphne? We don\\'t really know - but they weren\\'t really in love and she wasn\\'t really a scientist. He got help escaping and she got \"a shot in the arm of hope.\" (Pollyanna) A cont\\'d relationship would\\'ve been nice, but as Billy Joel says \"it\\'s more than I\\'d hoped for...\"\\n\\n\\n\\n', 'pos')\n"
     ]
    }
   ],
   "source": [
    "print(train_data[0])"
   ]
  },
  {
   "cell_type": "code",
   "execution_count": 8,
   "metadata": {},
   "outputs": [],
   "source": [
    "nlp = spacy.load(\"en_core_web_sm\")"
   ]
  },
  {
   "cell_type": "code",
   "execution_count": 9,
   "metadata": {},
   "outputs": [],
   "source": [
    "def make_docs(data):\n",
    "    docs = []\n",
    "    for doc, label in nlp.pipe(data, as_tuples=True):\n",
    "        if label == 'Negativo':\n",
    "            doc.cats[\"positive\"] = 0\n",
    "            doc.cats[\"negative\"] = 1\n",
    "        else:\n",
    "            doc.cats[\"positive\"] = 1\n",
    "            doc.cats[\"negative\"] = 0\n",
    "        docs.append(doc)\n",
    "    return (docs)"
   ]
  },
  {
   "cell_type": "code",
   "execution_count": 10,
   "metadata": {},
   "outputs": [],
   "source": [
    "## create training and validation data\n",
    "num_texts = 500 # amount of validation and training generated\n",
    "\n",
    "train_docs = make_docs(train_data[:num_texts])\n",
    "doc_bin = DocBin(docs=train_docs)\n",
    "doc_bin.to_disk(\"./C:/Test folder/KnowingSpacy/self learning/train.spacy\")\n",
    "\n",
    "valid_docs = make_docs(valid_data[:num_texts])\n",
    "doc_bin= DocBin(docs=valid_docs)\n",
    "doc_bin.to_disk(\"./C:/Test folder/KnowingSpacy/self learning/valid.spacy\")"
   ]
  },
  {
   "cell_type": "code",
   "execution_count": null,
   "metadata": {},
   "outputs": [],
   "source": [
    "### To train the model\n",
    "\n",
    "# 1. create a base_config_model and copy data from  python -m spacy train config.cfg --output ./outpu\n",
    "# 2. update base_config.cfg file with the train and dev paths\n",
    "\n",
    "# anaconda prompt\n",
    "# 3.python -m spacy init fill-config ./base_config.cfg ./config.cfg\n",
    "# 4. open config\n",
    "# 3. python -m spacy train config.cfg --output ./output"
   ]
  },
  {
   "cell_type": "code",
   "execution_count": null,
   "metadata": {},
   "outputs": [],
   "source": []
  }
 ],
 "metadata": {
  "interpreter": {
   "hash": "610efb86e122df48aab22117e29509e00a585e4642c6384735721f42f83ab1a2"
  },
  "kernelspec": {
   "display_name": "Python 3.8.13 ('projeto_apspacy')",
   "language": "python",
   "name": "python3"
  },
  "language_info": {
   "codemirror_mode": {
    "name": "ipython",
    "version": 3
   },
   "file_extension": ".py",
   "mimetype": "text/x-python",
   "name": "python",
   "nbconvert_exporter": "python",
   "pygments_lexer": "ipython3",
   "version": "3.8.13"
  },
  "orig_nbformat": 4
 },
 "nbformat": 4,
 "nbformat_minor": 2
}
