{
 "cells": [
  {
   "cell_type": "markdown",
   "metadata": {},
   "source": [
    "### SPACY PORTUGUESE MODEL\n"
   ]
  },
  {
   "cell_type": "markdown",
   "metadata": {},
   "source": [
    "- STOP WORDS LIST:  https://github.com/explosion/spaCy/blob/master/spacy/lang/pt/stop_words.py\n",
    "\n",
    "- PUNCTUATION: https://github.com/explosion/spaCy/blob/master/spacy/lang/pt/punctuation.py\n",
    "\n",
    "- LANGUAGE DATA: https://spacy.io/usage/linguistic-features#language-data\n",
    "\n",
    "- pt_core_news_lg: written text (news, media)  https://spacy.io/models/pt#pt_core_news_lg"
   ]
  },
  {
   "cell_type": "code",
   "execution_count": 6,
   "metadata": {},
   "outputs": [],
   "source": [
    "# !pip install -U spacy\n",
    "# python -m spacy download pt_core_news_lg\n",
    "\n",
    "import spacy\n",
    "import pandas as pd\n",
    "from spacy.matcher import Matcher\n",
    "#spacy.cli.download(\"pt_core_news_lg\")\n",
    "from spacy import displacy\n",
    "from sklearn.model_selection import train_test_split\n",
    "from spacy.tokens import DocBin\n"
   ]
  },
  {
   "cell_type": "code",
   "execution_count": 7,
   "metadata": {},
   "outputs": [],
   "source": [
    "nlp = spacy.load(\"pt_core_news_lg\")"
   ]
  },
  {
   "cell_type": "code",
   "execution_count": 8,
   "metadata": {},
   "outputs": [
    {
     "name": "stdout",
     "output_type": "stream",
     "text": [
      "['tok2vec', 'morphologizer', 'parser', 'attribute_ruler', 'lemmatizer', 'ner']\n"
     ]
    }
   ],
   "source": [
    "print(nlp.pipe_names)"
   ]
  },
  {
   "cell_type": "code",
   "execution_count": 9,
   "metadata": {},
   "outputs": [
    {
     "data": {
      "text/plain": [
       "(['tok2vec',\n",
       "  'morphologizer',\n",
       "  'parser',\n",
       "  'attribute_ruler',\n",
       "  'lemmatizer',\n",
       "  'ner'],\n",
       " [('tok2vec', <spacy.pipeline.tok2vec.Tok2Vec at 0x1a9e39fdca0>),\n",
       "  ('morphologizer',\n",
       "   <spacy.pipeline.morphologizer.Morphologizer at 0x1a9e3a7a9a0>),\n",
       "  ('parser', <spacy.pipeline.dep_parser.DependencyParser at 0x1a9e3a357b0>),\n",
       "  ('attribute_ruler',\n",
       "   <spacy.pipeline.attributeruler.AttributeRuler at 0x1a9e3babac0>),\n",
       "  ('lemmatizer', <spacy.pipeline.lemmatizer.Lemmatizer at 0x1a9e3bb5b00>),\n",
       "  ('ner', <spacy.pipeline.ner.EntityRecognizer at 0x1a9e3a355f0>)])"
      ]
     },
     "execution_count": 9,
     "metadata": {},
     "output_type": "execute_result"
    }
   ],
   "source": [
    "nlp.pipe_names, nlp.pipeline"
   ]
  },
  {
   "cell_type": "code",
   "execution_count": 10,
   "metadata": {},
   "outputs": [
    {
     "data": {
      "text/plain": [
       "('LOC', 'MISC', 'ORG', 'PER')"
      ]
     },
     "execution_count": 10,
     "metadata": {},
     "output_type": "execute_result"
    }
   ],
   "source": [
    "ents = nlp.get_pipe('ner').labels\n",
    "ents\n",
    "\n",
    "#miscel- laneous (MISC)"
   ]
  },
  {
   "cell_type": "code",
   "execution_count": 11,
   "metadata": {},
   "outputs": [],
   "source": [
    "text = \"O Real Mosteiro de Santa Maria de Belém, designado comumente por Mosteiro dos Jerónimos, por ter sido destinado à Ordem de São Jerónimo, é uma obra-prima da arquitetura portuguesa. Classificado Monumento Nacional, em 1907, e inscrito na Lista do Património Mundial da UNESCO, em 1983, está vinculado ao Protocolo do Estado. A igreja, sede da Paróquia de Santa Maria de Belém, com serviço religioso e horário para vistas patrimoniais, e o claustro, secularizado no século XIX, têm acesso distinto e formam o conjunto patrimonial mais visitado do País.\""
   ]
  },
  {
   "cell_type": "code",
   "execution_count": 12,
   "metadata": {},
   "outputs": [
    {
     "name": "stdout",
     "output_type": "stream",
     "text": [
      "     Real Mosteiro de Santa Maria de Belém LOC\n",
      "     Mosteiro dos Jerónimos LOC\n",
      "     Ordem de São Jerónimo ORG\n",
      "     Monumento Nacional LOC\n",
      "     Lista do Património Mundial da UNESCO MISC\n",
      "     Protocolo do Estado MISC\n",
      "     Paróquia de Santa Maria de Belém LOC\n",
      "     País LOC\n",
      "Entity not available\n"
     ]
    }
   ],
   "source": [
    "#%%timeit\n",
    "doc = nlp(text)\n",
    "\n",
    "for ent in doc.ents:\n",
    "    print(f\"     {ent.text} {ent.label_}\")\n",
    "print(\"Entity not available\")\n",
    "\n",
    "\n"
   ]
  },
  {
   "cell_type": "code",
   "execution_count": 13,
   "metadata": {},
   "outputs": [
    {
     "data": {
      "text/html": [
       "<div>\n",
       "<style scoped>\n",
       "    .dataframe tbody tr th:only-of-type {\n",
       "        vertical-align: middle;\n",
       "    }\n",
       "\n",
       "    .dataframe tbody tr th {\n",
       "        vertical-align: top;\n",
       "    }\n",
       "\n",
       "    .dataframe thead th {\n",
       "        text-align: right;\n",
       "    }\n",
       "</style>\n",
       "<table border=\"1\" class=\"dataframe\">\n",
       "  <thead>\n",
       "    <tr style=\"text-align: right;\">\n",
       "      <th></th>\n",
       "      <th>text</th>\n",
       "      <th>lemma</th>\n",
       "      <th>pos</th>\n",
       "      <th>tag</th>\n",
       "      <th>dep</th>\n",
       "      <th>shape</th>\n",
       "      <th>is_alpha</th>\n",
       "      <th>is_stop</th>\n",
       "      <th>is_punctuation</th>\n",
       "    </tr>\n",
       "  </thead>\n",
       "  <tbody>\n",
       "    <tr>\n",
       "      <th>0</th>\n",
       "      <td>O</td>\n",
       "      <td>(O,)</td>\n",
       "      <td>DET</td>\n",
       "      <td>DET</td>\n",
       "      <td>det</td>\n",
       "      <td>X</td>\n",
       "      <td>True</td>\n",
       "      <td>True</td>\n",
       "      <td>False</td>\n",
       "    </tr>\n",
       "    <tr>\n",
       "      <th>1</th>\n",
       "      <td>Real</td>\n",
       "      <td>(Real,)</td>\n",
       "      <td>PROPN</td>\n",
       "      <td>PROPN</td>\n",
       "      <td>nsubj</td>\n",
       "      <td>Xxxx</td>\n",
       "      <td>True</td>\n",
       "      <td>False</td>\n",
       "      <td>False</td>\n",
       "    </tr>\n",
       "    <tr>\n",
       "      <th>2</th>\n",
       "      <td>Mosteiro</td>\n",
       "      <td>(Mosteiro,)</td>\n",
       "      <td>PROPN</td>\n",
       "      <td>PROPN</td>\n",
       "      <td>flat:name</td>\n",
       "      <td>Xxxxx</td>\n",
       "      <td>True</td>\n",
       "      <td>False</td>\n",
       "      <td>False</td>\n",
       "    </tr>\n",
       "    <tr>\n",
       "      <th>3</th>\n",
       "      <td>de</td>\n",
       "      <td>(de,)</td>\n",
       "      <td>ADP</td>\n",
       "      <td>ADP</td>\n",
       "      <td>case</td>\n",
       "      <td>xx</td>\n",
       "      <td>True</td>\n",
       "      <td>True</td>\n",
       "      <td>False</td>\n",
       "    </tr>\n",
       "    <tr>\n",
       "      <th>4</th>\n",
       "      <td>Santa</td>\n",
       "      <td>(Santa,)</td>\n",
       "      <td>PROPN</td>\n",
       "      <td>PROPN</td>\n",
       "      <td>nmod</td>\n",
       "      <td>Xxxxx</td>\n",
       "      <td>True</td>\n",
       "      <td>False</td>\n",
       "      <td>False</td>\n",
       "    </tr>\n",
       "    <tr>\n",
       "      <th>...</th>\n",
       "      <td>...</td>\n",
       "      <td>...</td>\n",
       "      <td>...</td>\n",
       "      <td>...</td>\n",
       "      <td>...</td>\n",
       "      <td>...</td>\n",
       "      <td>...</td>\n",
       "      <td>...</td>\n",
       "      <td>...</td>\n",
       "    </tr>\n",
       "    <tr>\n",
       "      <th>98</th>\n",
       "      <td>mais</td>\n",
       "      <td>(mais,)</td>\n",
       "      <td>ADV</td>\n",
       "      <td>ADV</td>\n",
       "      <td>advmod</td>\n",
       "      <td>xxxx</td>\n",
       "      <td>True</td>\n",
       "      <td>True</td>\n",
       "      <td>False</td>\n",
       "    </tr>\n",
       "    <tr>\n",
       "      <th>99</th>\n",
       "      <td>visitado</td>\n",
       "      <td>(visitar,)</td>\n",
       "      <td>VERB</td>\n",
       "      <td>VERB</td>\n",
       "      <td>acl</td>\n",
       "      <td>xxxx</td>\n",
       "      <td>True</td>\n",
       "      <td>False</td>\n",
       "      <td>False</td>\n",
       "    </tr>\n",
       "    <tr>\n",
       "      <th>100</th>\n",
       "      <td>do</td>\n",
       "      <td>(do,)</td>\n",
       "      <td>ADP</td>\n",
       "      <td>ADP</td>\n",
       "      <td>case</td>\n",
       "      <td>xx</td>\n",
       "      <td>True</td>\n",
       "      <td>True</td>\n",
       "      <td>False</td>\n",
       "    </tr>\n",
       "    <tr>\n",
       "      <th>101</th>\n",
       "      <td>País</td>\n",
       "      <td>(País,)</td>\n",
       "      <td>PROPN</td>\n",
       "      <td>PROPN</td>\n",
       "      <td>obl</td>\n",
       "      <td>Xxxx</td>\n",
       "      <td>True</td>\n",
       "      <td>False</td>\n",
       "      <td>False</td>\n",
       "    </tr>\n",
       "    <tr>\n",
       "      <th>102</th>\n",
       "      <td>.</td>\n",
       "      <td>(.,)</td>\n",
       "      <td>PUNCT</td>\n",
       "      <td>PUNCT</td>\n",
       "      <td>punct</td>\n",
       "      <td>.</td>\n",
       "      <td>False</td>\n",
       "      <td>False</td>\n",
       "      <td>True</td>\n",
       "    </tr>\n",
       "  </tbody>\n",
       "</table>\n",
       "<p>103 rows × 9 columns</p>\n",
       "</div>"
      ],
      "text/plain": [
       "         text        lemma    pos    tag        dep  shape is_alpha is_stop  \\\n",
       "0           O         (O,)    DET    DET        det      X     True    True   \n",
       "1        Real      (Real,)  PROPN  PROPN      nsubj   Xxxx     True   False   \n",
       "2    Mosteiro  (Mosteiro,)  PROPN  PROPN  flat:name  Xxxxx     True   False   \n",
       "3          de        (de,)    ADP    ADP       case     xx     True    True   \n",
       "4       Santa     (Santa,)  PROPN  PROPN       nmod  Xxxxx     True   False   \n",
       "..        ...          ...    ...    ...        ...    ...      ...     ...   \n",
       "98       mais      (mais,)    ADV    ADV     advmod   xxxx     True    True   \n",
       "99   visitado   (visitar,)   VERB   VERB        acl   xxxx     True   False   \n",
       "100        do        (do,)    ADP    ADP       case     xx     True    True   \n",
       "101      País      (País,)  PROPN  PROPN        obl   Xxxx     True   False   \n",
       "102         .         (.,)  PUNCT  PUNCT      punct      .    False   False   \n",
       "\n",
       "    is_punctuation  \n",
       "0            False  \n",
       "1            False  \n",
       "2            False  \n",
       "3            False  \n",
       "4            False  \n",
       "..             ...  \n",
       "98           False  \n",
       "99           False  \n",
       "100          False  \n",
       "101          False  \n",
       "102           True  \n",
       "\n",
       "[103 rows x 9 columns]"
      ]
     },
     "execution_count": 13,
     "metadata": {},
     "output_type": "execute_result"
    }
   ],
   "source": [
    "# for token in doc:\n",
    "#     print(token.text, token.lemma_, token.pos_, token.tag_, token.dep_,\n",
    "#             token.shape_, token.is_alpha, token.is_stop)\n",
    "\n",
    "\n",
    "tokenized_text = pd.DataFrame()\n",
    "\n",
    "for i, token in enumerate(doc):\n",
    "    tokenized_text.loc[i, 'text'] = token.text\n",
    "    tokenized_text.loc[i, 'lemma'] = token.lemma_,\n",
    "    tokenized_text.loc[i, 'pos'] = token.pos_\n",
    "    tokenized_text.loc[i, 'tag'] = token.tag_\n",
    "    tokenized_text.loc[i, 'dep'] = token.dep_\n",
    "    tokenized_text.loc[i, 'shape'] = token.shape_\n",
    "    tokenized_text.loc[i, 'is_alpha'] = token.is_alpha\n",
    "    tokenized_text.loc[i, 'is_stop'] = token.is_stop\n",
    "    tokenized_text.loc[i, 'is_punctuation'] = token.is_punct\n",
    "\n",
    "tokenized_text"
   ]
  },
  {
   "cell_type": "code",
   "execution_count": 14,
   "metadata": {},
   "outputs": [
    {
     "data": {
      "text/plain": [
       "()"
      ]
     },
     "execution_count": 14,
     "metadata": {},
     "output_type": "execute_result"
    }
   ],
   "source": [
    "ents = nlp.get_pipe('attribute_ruler').labels\n",
    "ents"
   ]
  },
  {
   "cell_type": "code",
   "execution_count": 15,
   "metadata": {},
   "outputs": [
    {
     "data": {
      "text/plain": [
       "('ROOT',\n",
       " 'acl',\n",
       " 'acl:relcl',\n",
       " 'advcl',\n",
       " 'advmod',\n",
       " 'amod',\n",
       " 'appos',\n",
       " 'aux',\n",
       " 'aux:pass',\n",
       " 'case',\n",
       " 'cc',\n",
       " 'ccomp',\n",
       " 'compound',\n",
       " 'conj',\n",
       " 'cop',\n",
       " 'csubj',\n",
       " 'dep',\n",
       " 'det',\n",
       " 'discourse',\n",
       " 'expl',\n",
       " 'fixed',\n",
       " 'flat',\n",
       " 'flat:foreign',\n",
       " 'flat:name',\n",
       " 'iobj',\n",
       " 'mark',\n",
       " 'nmod',\n",
       " 'nsubj',\n",
       " 'nsubj:pass',\n",
       " 'nummod',\n",
       " 'obj',\n",
       " 'obl',\n",
       " 'obl:agent',\n",
       " 'parataxis',\n",
       " 'punct',\n",
       " 'xcomp')"
      ]
     },
     "execution_count": 15,
     "metadata": {},
     "output_type": "execute_result"
    }
   ],
   "source": [
    "ents = nlp.get_pipe('parser').labels\n",
    "ents"
   ]
  },
  {
   "cell_type": "code",
   "execution_count": 16,
   "metadata": {},
   "outputs": [
    {
     "data": {
      "text/plain": [
       "()"
      ]
     },
     "execution_count": 16,
     "metadata": {},
     "output_type": "execute_result"
    }
   ],
   "source": [
    "ents = nlp.get_pipe('tok2vec').labels\n",
    "ents"
   ]
  },
  {
   "cell_type": "markdown",
   "metadata": {},
   "source": []
  },
  {
   "cell_type": "markdown",
   "metadata": {},
   "source": [
    "# PORTUGUESE TWEETS ANALYSIS"
   ]
  },
  {
   "cell_type": "code",
   "execution_count": 17,
   "metadata": {},
   "outputs": [],
   "source": [
    "with open(\"C:\\\\Test folder\\\\NoThemeTweets.csv\") as csv_file:\n",
    "    data = pd.read_csv(csv_file)"
   ]
  },
  {
   "cell_type": "markdown",
   "metadata": {},
   "source": []
  },
  {
   "cell_type": "code",
   "execution_count": 18,
   "metadata": {},
   "outputs": [
    {
     "data": {
      "text/html": [
       "<div>\n",
       "<style scoped>\n",
       "    .dataframe tbody tr th:only-of-type {\n",
       "        vertical-align: middle;\n",
       "    }\n",
       "\n",
       "    .dataframe tbody tr th {\n",
       "        vertical-align: top;\n",
       "    }\n",
       "\n",
       "    .dataframe thead th {\n",
       "        text-align: right;\n",
       "    }\n",
       "</style>\n",
       "<table border=\"1\" class=\"dataframe\">\n",
       "  <thead>\n",
       "    <tr style=\"text-align: right;\">\n",
       "      <th></th>\n",
       "      <th>id</th>\n",
       "      <th>tweet_text</th>\n",
       "      <th>tweet_date</th>\n",
       "      <th>sentiment</th>\n",
       "      <th>query_used</th>\n",
       "    </tr>\n",
       "  </thead>\n",
       "  <tbody>\n",
       "    <tr>\n",
       "      <th>0</th>\n",
       "      <td>1031761728445530112</td>\n",
       "      <td>@Tixaa23 14 para eu ir :)</td>\n",
       "      <td>Tue Aug 21 04:35:39 +0000 2018</td>\n",
       "      <td>Positivo</td>\n",
       "      <td>:)</td>\n",
       "    </tr>\n",
       "    <tr>\n",
       "      <th>1</th>\n",
       "      <td>1031761040462278656</td>\n",
       "      <td>@drexalvarez O meu like eu já dei na época :)</td>\n",
       "      <td>Tue Aug 21 04:32:55 +0000 2018</td>\n",
       "      <td>Positivo</td>\n",
       "      <td>:)</td>\n",
       "    </tr>\n",
       "    <tr>\n",
       "      <th>2</th>\n",
       "      <td>1031760962372689920</td>\n",
       "      <td>Eu só queria conseguir comer alguma coisa pra ...</td>\n",
       "      <td>Tue Aug 21 04:32:37 +0000 2018</td>\n",
       "      <td>Positivo</td>\n",
       "      <td>:)</td>\n",
       "    </tr>\n",
       "    <tr>\n",
       "      <th>3</th>\n",
       "      <td>1031760948250456066</td>\n",
       "      <td>:D que lindo dia !</td>\n",
       "      <td>Tue Aug 21 04:32:33 +0000 2018</td>\n",
       "      <td>Positivo</td>\n",
       "      <td>:)</td>\n",
       "    </tr>\n",
       "    <tr>\n",
       "      <th>4</th>\n",
       "      <td>1031760895985246208</td>\n",
       "      <td>@Primo_Resmungao Pq da pr jeito!!é uma \"oferta...</td>\n",
       "      <td>Tue Aug 21 04:32:21 +0000 2018</td>\n",
       "      <td>Positivo</td>\n",
       "      <td>:)</td>\n",
       "    </tr>\n",
       "  </tbody>\n",
       "</table>\n",
       "</div>"
      ],
      "text/plain": [
       "                    id                                         tweet_text  \\\n",
       "0  1031761728445530112                          @Tixaa23 14 para eu ir :)   \n",
       "1  1031761040462278656      @drexalvarez O meu like eu já dei na época :)   \n",
       "2  1031760962372689920  Eu só queria conseguir comer alguma coisa pra ...   \n",
       "3  1031760948250456066                                 :D que lindo dia !   \n",
       "4  1031760895985246208  @Primo_Resmungao Pq da pr jeito!!é uma \"oferta...   \n",
       "\n",
       "                       tweet_date sentiment query_used  \n",
       "0  Tue Aug 21 04:35:39 +0000 2018  Positivo         :)  \n",
       "1  Tue Aug 21 04:32:55 +0000 2018  Positivo         :)  \n",
       "2  Tue Aug 21 04:32:37 +0000 2018  Positivo         :)  \n",
       "3  Tue Aug 21 04:32:33 +0000 2018  Positivo         :)  \n",
       "4  Tue Aug 21 04:32:21 +0000 2018  Positivo         :)  "
      ]
     },
     "execution_count": 18,
     "metadata": {},
     "output_type": "execute_result"
    }
   ],
   "source": [
    "data.head()"
   ]
  },
  {
   "cell_type": "code",
   "execution_count": 19,
   "metadata": {},
   "outputs": [],
   "source": [
    "data = data[['tweet_text','sentiment']].dropna()"
   ]
  },
  {
   "cell_type": "markdown",
   "metadata": {},
   "source": [
    "## DATA UNDERSTANDING"
   ]
  },
  {
   "cell_type": "code",
   "execution_count": 20,
   "metadata": {},
   "outputs": [
    {
     "data": {
      "text/plain": [
       "sentiment\n",
       "Negativo    522707\n",
       "Positivo    263107\n",
       "dtype: int64"
      ]
     },
     "execution_count": 20,
     "metadata": {},
     "output_type": "execute_result"
    }
   ],
   "source": [
    "data.groupby('sentiment').size()"
   ]
  },
  {
   "cell_type": "code",
   "execution_count": 21,
   "metadata": {},
   "outputs": [
    {
     "name": "stdout",
     "output_type": "stream",
     "text": [
      "positive tweets: 263107\n",
      "negative tweets: 522707\n",
      "df positivo: (263107, 2)\n",
      "df negativo: (522707, 2)\n"
     ]
    }
   ],
   "source": [
    "# class count\n",
    "class_count_neg, class_count_pos = data['sentiment'].value_counts()\n",
    "\n",
    "print(\"positive tweets:\", class_count_pos)\n",
    "print(\"negative tweets:\", class_count_neg)\n",
    "\n",
    "# separate classes\n",
    "class_pos = data[data['sentiment'] == \"Positivo\"]\n",
    "class_neg = data[data['sentiment'] == \"Negativo\"]\n",
    "print(\"df positivo:\", class_pos.shape)\n",
    "print(\"df negativo:\", class_neg.shape)\n",
    "\n"
   ]
  },
  {
   "cell_type": "code",
   "execution_count": 22,
   "metadata": {},
   "outputs": [
    {
     "name": "stdout",
     "output_type": "stream",
     "text": [
      "total neg and positive: Negativo    263107\n",
      "Positivo    263107\n",
      "Name: sentiment, dtype: int64\n"
     ]
    }
   ],
   "source": [
    "neg_under = class_neg.sample(class_count_pos)\n",
    "test_under = pd.concat([neg_under, class_pos], axis = 0)\n",
    "print(\"total neg and positive:\", test_under['sentiment'].value_counts())"
   ]
  },
  {
   "cell_type": "code",
   "execution_count": 23,
   "metadata": {},
   "outputs": [
    {
     "data": {
      "text/plain": [
       "(526214, 2)"
      ]
     },
     "execution_count": 23,
     "metadata": {},
     "output_type": "execute_result"
    }
   ],
   "source": [
    "test_under.shape"
   ]
  },
  {
   "cell_type": "code",
   "execution_count": 24,
   "metadata": {},
   "outputs": [
    {
     "data": {
      "text/html": [
       "<div>\n",
       "<style scoped>\n",
       "    .dataframe tbody tr th:only-of-type {\n",
       "        vertical-align: middle;\n",
       "    }\n",
       "\n",
       "    .dataframe tbody tr th {\n",
       "        vertical-align: top;\n",
       "    }\n",
       "\n",
       "    .dataframe thead th {\n",
       "        text-align: right;\n",
       "    }\n",
       "</style>\n",
       "<table border=\"1\" class=\"dataframe\">\n",
       "  <thead>\n",
       "    <tr style=\"text-align: right;\">\n",
       "      <th></th>\n",
       "      <th>tweet_text</th>\n",
       "      <th>sentiment</th>\n",
       "    </tr>\n",
       "  </thead>\n",
       "  <tbody>\n",
       "    <tr>\n",
       "      <th>174339</th>\n",
       "      <td>• ¡#Participa! 👀 O Borro :( https://t.co/y4S9k...</td>\n",
       "      <td>Negativo</td>\n",
       "    </tr>\n",
       "    <tr>\n",
       "      <th>470482</th>\n",
       "      <td>baekhyun ta vivo sim eu que sequestei eu juro ...</td>\n",
       "      <td>Negativo</td>\n",
       "    </tr>\n",
       "    <tr>\n",
       "      <th>400895</th>\n",
       "      <td>eu te amo :( https://t.co/yStnKtjo6M</td>\n",
       "      <td>Negativo</td>\n",
       "    </tr>\n",
       "    <tr>\n",
       "      <th>614600</th>\n",
       "      <td>@lelpardo foi sem querer :(</td>\n",
       "      <td>Negativo</td>\n",
       "    </tr>\n",
       "    <tr>\n",
       "      <th>285085</th>\n",
       "      <td>@gayhobbitt eu to quase doando os meus tbm mas...</td>\n",
       "      <td>Negativo</td>\n",
       "    </tr>\n",
       "    <tr>\n",
       "      <th>...</th>\n",
       "      <td>...</td>\n",
       "      <td>...</td>\n",
       "    </tr>\n",
       "    <tr>\n",
       "      <th>226909</th>\n",
       "      <td>pitiquinho :( https://t.co/Fcm1NTiMoU</td>\n",
       "      <td>Negativo</td>\n",
       "    </tr>\n",
       "    <tr>\n",
       "      <th>302594</th>\n",
       "      <td>eu quero pedir ela em namoro, tanto que ia faz...</td>\n",
       "      <td>Negativo</td>\n",
       "    </tr>\n",
       "    <tr>\n",
       "      <th>95022</th>\n",
       "      <td>Queria uma parceria pra fazer exercícios comig...</td>\n",
       "      <td>Negativo</td>\n",
       "    </tr>\n",
       "    <tr>\n",
       "      <th>544282</th>\n",
       "      <td>@milgraubia Toda vez que saio do ru eu compro ...</td>\n",
       "      <td>Negativo</td>\n",
       "    </tr>\n",
       "    <tr>\n",
       "      <th>729479</th>\n",
       "      <td>@daoraale @mmaethe @alanzoka @SamelaHidalgoo @...</td>\n",
       "      <td>Negativo</td>\n",
       "    </tr>\n",
       "  </tbody>\n",
       "</table>\n",
       "<p>263107 rows × 2 columns</p>\n",
       "</div>"
      ],
      "text/plain": [
       "                                               tweet_text sentiment\n",
       "174339  • ¡#Participa! 👀 O Borro :( https://t.co/y4S9k...  Negativo\n",
       "470482  baekhyun ta vivo sim eu que sequestei eu juro ...  Negativo\n",
       "400895               eu te amo :( https://t.co/yStnKtjo6M  Negativo\n",
       "614600                        @lelpardo foi sem querer :(  Negativo\n",
       "285085  @gayhobbitt eu to quase doando os meus tbm mas...  Negativo\n",
       "...                                                   ...       ...\n",
       "226909              pitiquinho :( https://t.co/Fcm1NTiMoU  Negativo\n",
       "302594  eu quero pedir ela em namoro, tanto que ia faz...  Negativo\n",
       "95022   Queria uma parceria pra fazer exercícios comig...  Negativo\n",
       "544282  @milgraubia Toda vez que saio do ru eu compro ...  Negativo\n",
       "729479  @daoraale @mmaethe @alanzoka @SamelaHidalgoo @...  Negativo\n",
       "\n",
       "[263107 rows x 2 columns]"
      ]
     },
     "execution_count": 24,
     "metadata": {},
     "output_type": "execute_result"
    }
   ],
   "source": [
    "x = test_under[test_under['sentiment'] == 'Negativo']\n",
    "x.head()\n",
    "x[['tweet_text', 'sentiment']]"
   ]
  },
  {
   "cell_type": "code",
   "execution_count": null,
   "metadata": {},
   "outputs": [],
   "source": [
    "# tweets = test_under['tweet_text'][:100]\n",
    "# tweets"
   ]
  },
  {
   "cell_type": "markdown",
   "metadata": {},
   "source": [
    "## DATA PREPARATION for SPACY"
   ]
  },
  {
   "cell_type": "code",
   "execution_count": 26,
   "metadata": {},
   "outputs": [
    {
     "name": "stdout",
     "output_type": "stream",
     "text": [
      "train dataset: sentiment\n",
      "Negativo    1067\n",
      "Positivo    3933\n",
      "dtype: int64\n",
      "valid dataset: sentiment\n",
      "Negativo    4417\n",
      "Positivo     583\n",
      "dtype: int64\n"
     ]
    }
   ],
   "source": [
    "# Creating a train dataset and a validation dataset\n",
    "train_df = data[:90000].sample(n = 5000)\n",
    "print(\"train dataset:\", train_df.groupby('sentiment').size())\n",
    "\n",
    "valid_df = data[90001:200000].sample(n = 5000)\n",
    "print(\"valid dataset:\",valid_df.groupby('sentiment').size())"
   ]
  },
  {
   "cell_type": "code",
   "execution_count": 30,
   "metadata": {},
   "outputs": [
    {
     "name": "stdout",
     "output_type": "stream",
     "text": [
      "<class 'list'>\n",
      "<class 'list'>\n"
     ]
    }
   ],
   "source": [
    "# Converting the dataframe into a list of tuples\n",
    "valid_df['tuples'] = valid_df.apply(lambda row: (row['tweet_text'],row['sentiment']), axis=1)\n",
    "valid_data = valid_df['tuples'].tolist()\n",
    "#train[:10]\n",
    "#print(valid_data[0])\n",
    "print(type(valid_data))\n",
    "#print(valid_data)\n",
    "\n",
    "train_df['tuples'] = train_df.apply(lambda row: (row['tweet_text'],row['sentiment']), axis=1)\n",
    "train_data = train_df['tuples'].tolist()\n",
    "#train[:10]\n",
    "#print(train_data[0])\n",
    "print(type(train_data))"
   ]
  },
  {
   "cell_type": "code",
   "execution_count": 77,
   "metadata": {},
   "outputs": [],
   "source": [
    "def make_docs(data):\n",
    "    docs = []\n",
    "    for doc, label in nlp.pipe(data, as_tuples=True):\n",
    "        if label == 'Negativo':\n",
    "            doc.cats[\"positive\"] = 0\n",
    "            doc.cats[\"negative\"] = 1\n",
    "        else:\n",
    "            doc.cats[\"positive\"] = 1\n",
    "            doc.cats[\"negative\"] = 0\n",
    "        docs.append(doc)\n",
    "    return (docs)"
   ]
  },
  {
   "cell_type": "code",
   "execution_count": 79,
   "metadata": {},
   "outputs": [
    {
     "ename": "ValueError",
     "evalue": "Cannot get dimension 'nO' for model 'sparse_linear': value unset",
     "output_type": "error",
     "traceback": [
      "\u001b[1;31m---------------------------------------------------------------------------\u001b[0m",
      "\u001b[1;31mValueError\u001b[0m                                Traceback (most recent call last)",
      "\u001b[1;32mc:\\Test folder\\KnowingSpacy\\self learning\\pt model.ipynb Cell 32'\u001b[0m in \u001b[0;36m<cell line: 4>\u001b[1;34m()\u001b[0m\n\u001b[0;32m      <a href='vscode-notebook-cell:/c%3A/Test%20folder/KnowingSpacy/self%20learning/pt%20model.ipynb#ch0000079?line=0'>1</a>\u001b[0m \u001b[39m## create training and validation data\u001b[39;00m\n\u001b[0;32m      <a href='vscode-notebook-cell:/c%3A/Test%20folder/KnowingSpacy/self%20learning/pt%20model.ipynb#ch0000079?line=1'>2</a>\u001b[0m \u001b[39m#num_texts = 4500 # amount of validation and training generated\u001b[39;00m\n\u001b[1;32m----> <a href='vscode-notebook-cell:/c%3A/Test%20folder/KnowingSpacy/self%20learning/pt%20model.ipynb#ch0000079?line=3'>4</a>\u001b[0m train_docs \u001b[39m=\u001b[39m make_docs(train_data)\n\u001b[0;32m      <a href='vscode-notebook-cell:/c%3A/Test%20folder/KnowingSpacy/self%20learning/pt%20model.ipynb#ch0000079?line=4'>5</a>\u001b[0m doc_bin \u001b[39m=\u001b[39m DocBin(docs\u001b[39m=\u001b[39mtrain_docs)\n\u001b[0;32m      <a href='vscode-notebook-cell:/c%3A/Test%20folder/KnowingSpacy/self%20learning/pt%20model.ipynb#ch0000079?line=5'>6</a>\u001b[0m doc_bin\u001b[39m.\u001b[39mto_disk(\u001b[39m\"\u001b[39m\u001b[39m./C:/Test folder/KnowingSpacy/self learning/train.spacy\u001b[39m\u001b[39m\"\u001b[39m)\n",
      "\u001b[1;32mc:\\Test folder\\KnowingSpacy\\self learning\\pt model.ipynb Cell 31'\u001b[0m in \u001b[0;36mmake_docs\u001b[1;34m(data)\u001b[0m\n\u001b[0;32m      <a href='vscode-notebook-cell:/c%3A/Test%20folder/KnowingSpacy/self%20learning/pt%20model.ipynb#ch0000077?line=0'>1</a>\u001b[0m \u001b[39mdef\u001b[39;00m \u001b[39mmake_docs\u001b[39m(data):\n\u001b[0;32m      <a href='vscode-notebook-cell:/c%3A/Test%20folder/KnowingSpacy/self%20learning/pt%20model.ipynb#ch0000077?line=1'>2</a>\u001b[0m     docs \u001b[39m=\u001b[39m []\n\u001b[1;32m----> <a href='vscode-notebook-cell:/c%3A/Test%20folder/KnowingSpacy/self%20learning/pt%20model.ipynb#ch0000077?line=2'>3</a>\u001b[0m     \u001b[39mfor\u001b[39;00m doc, label \u001b[39min\u001b[39;00m nlp\u001b[39m.\u001b[39mpipe(data, as_tuples\u001b[39m=\u001b[39m\u001b[39mTrue\u001b[39;00m):\n\u001b[0;32m      <a href='vscode-notebook-cell:/c%3A/Test%20folder/KnowingSpacy/self%20learning/pt%20model.ipynb#ch0000077?line=3'>4</a>\u001b[0m         \u001b[39mif\u001b[39;00m label \u001b[39m==\u001b[39m \u001b[39m'\u001b[39m\u001b[39mNegativo\u001b[39m\u001b[39m'\u001b[39m:\n\u001b[0;32m      <a href='vscode-notebook-cell:/c%3A/Test%20folder/KnowingSpacy/self%20learning/pt%20model.ipynb#ch0000077?line=4'>5</a>\u001b[0m             doc\u001b[39m.\u001b[39mcats[\u001b[39m\"\u001b[39m\u001b[39mpositive\u001b[39m\u001b[39m\"\u001b[39m] \u001b[39m=\u001b[39m \u001b[39m0\u001b[39m\n",
      "File \u001b[1;32m~\\anaconda3\\envs\\projeto_apspacy\\lib\\site-packages\\spacy\\language.py:1531\u001b[0m, in \u001b[0;36mLanguage.pipe\u001b[1;34m(self, texts, as_tuples, batch_size, disable, component_cfg, n_process)\u001b[0m\n\u001b[0;32m   <a href='file:///c%3A/Users/APinto/anaconda3/envs/projeto_apspacy/lib/site-packages/spacy/language.py?line=1520'>1521</a>\u001b[0m docs_with_contexts \u001b[39m=\u001b[39m (\n\u001b[0;32m   <a href='file:///c%3A/Users/APinto/anaconda3/envs/projeto_apspacy/lib/site-packages/spacy/language.py?line=1521'>1522</a>\u001b[0m     \u001b[39mself\u001b[39m\u001b[39m.\u001b[39m_ensure_doc_with_context(text, context) \u001b[39mfor\u001b[39;00m text, context \u001b[39min\u001b[39;00m texts\n\u001b[0;32m   <a href='file:///c%3A/Users/APinto/anaconda3/envs/projeto_apspacy/lib/site-packages/spacy/language.py?line=1522'>1523</a>\u001b[0m )\n\u001b[0;32m   <a href='file:///c%3A/Users/APinto/anaconda3/envs/projeto_apspacy/lib/site-packages/spacy/language.py?line=1523'>1524</a>\u001b[0m docs \u001b[39m=\u001b[39m \u001b[39mself\u001b[39m\u001b[39m.\u001b[39mpipe(\n\u001b[0;32m   <a href='file:///c%3A/Users/APinto/anaconda3/envs/projeto_apspacy/lib/site-packages/spacy/language.py?line=1524'>1525</a>\u001b[0m     docs_with_contexts,\n\u001b[0;32m   <a href='file:///c%3A/Users/APinto/anaconda3/envs/projeto_apspacy/lib/site-packages/spacy/language.py?line=1525'>1526</a>\u001b[0m     batch_size\u001b[39m=\u001b[39mbatch_size,\n\u001b[1;32m   (...)\u001b[0m\n\u001b[0;32m   <a href='file:///c%3A/Users/APinto/anaconda3/envs/projeto_apspacy/lib/site-packages/spacy/language.py?line=1528'>1529</a>\u001b[0m     component_cfg\u001b[39m=\u001b[39mcomponent_cfg,\n\u001b[0;32m   <a href='file:///c%3A/Users/APinto/anaconda3/envs/projeto_apspacy/lib/site-packages/spacy/language.py?line=1529'>1530</a>\u001b[0m )\n\u001b[1;32m-> <a href='file:///c%3A/Users/APinto/anaconda3/envs/projeto_apspacy/lib/site-packages/spacy/language.py?line=1530'>1531</a>\u001b[0m \u001b[39mfor\u001b[39;00m doc \u001b[39min\u001b[39;00m docs:\n\u001b[0;32m   <a href='file:///c%3A/Users/APinto/anaconda3/envs/projeto_apspacy/lib/site-packages/spacy/language.py?line=1531'>1532</a>\u001b[0m     context \u001b[39m=\u001b[39m doc\u001b[39m.\u001b[39m_context\n\u001b[0;32m   <a href='file:///c%3A/Users/APinto/anaconda3/envs/projeto_apspacy/lib/site-packages/spacy/language.py?line=1532'>1533</a>\u001b[0m     doc\u001b[39m.\u001b[39m_context \u001b[39m=\u001b[39m \u001b[39mNone\u001b[39;00m\n",
      "File \u001b[1;32m~\\anaconda3\\envs\\projeto_apspacy\\lib\\site-packages\\spacy\\language.py:1575\u001b[0m, in \u001b[0;36mLanguage.pipe\u001b[1;34m(self, texts, as_tuples, batch_size, disable, component_cfg, n_process)\u001b[0m\n\u001b[0;32m   <a href='file:///c%3A/Users/APinto/anaconda3/envs/projeto_apspacy/lib/site-packages/spacy/language.py?line=1572'>1573</a>\u001b[0m     \u001b[39mfor\u001b[39;00m pipe \u001b[39min\u001b[39;00m pipes:\n\u001b[0;32m   <a href='file:///c%3A/Users/APinto/anaconda3/envs/projeto_apspacy/lib/site-packages/spacy/language.py?line=1573'>1574</a>\u001b[0m         docs \u001b[39m=\u001b[39m pipe(docs)\n\u001b[1;32m-> <a href='file:///c%3A/Users/APinto/anaconda3/envs/projeto_apspacy/lib/site-packages/spacy/language.py?line=1574'>1575</a>\u001b[0m \u001b[39mfor\u001b[39;00m doc \u001b[39min\u001b[39;00m docs:\n\u001b[0;32m   <a href='file:///c%3A/Users/APinto/anaconda3/envs/projeto_apspacy/lib/site-packages/spacy/language.py?line=1575'>1576</a>\u001b[0m     \u001b[39myield\u001b[39;00m doc\n",
      "File \u001b[1;32m~\\anaconda3\\envs\\projeto_apspacy\\lib\\site-packages\\spacy\\util.py:1598\u001b[0m, in \u001b[0;36m_pipe\u001b[1;34m(docs, proc, name, default_error_handler, kwargs)\u001b[0m\n\u001b[0;32m   <a href='file:///c%3A/Users/APinto/anaconda3/envs/projeto_apspacy/lib/site-packages/spacy/util.py?line=1589'>1590</a>\u001b[0m \u001b[39mdef\u001b[39;00m \u001b[39m_pipe\u001b[39m(\n\u001b[0;32m   <a href='file:///c%3A/Users/APinto/anaconda3/envs/projeto_apspacy/lib/site-packages/spacy/util.py?line=1590'>1591</a>\u001b[0m     docs: Iterable[\u001b[39m\"\u001b[39m\u001b[39mDoc\u001b[39m\u001b[39m\"\u001b[39m],\n\u001b[0;32m   <a href='file:///c%3A/Users/APinto/anaconda3/envs/projeto_apspacy/lib/site-packages/spacy/util.py?line=1591'>1592</a>\u001b[0m     proc: \u001b[39m\"\u001b[39m\u001b[39mPipe\u001b[39m\u001b[39m\"\u001b[39m,\n\u001b[1;32m   (...)\u001b[0m\n\u001b[0;32m   <a href='file:///c%3A/Users/APinto/anaconda3/envs/projeto_apspacy/lib/site-packages/spacy/util.py?line=1594'>1595</a>\u001b[0m     kwargs: Mapping[\u001b[39mstr\u001b[39m, Any],\n\u001b[0;32m   <a href='file:///c%3A/Users/APinto/anaconda3/envs/projeto_apspacy/lib/site-packages/spacy/util.py?line=1595'>1596</a>\u001b[0m ) \u001b[39m-\u001b[39m\u001b[39m>\u001b[39m Iterator[\u001b[39m\"\u001b[39m\u001b[39mDoc\u001b[39m\u001b[39m\"\u001b[39m]:\n\u001b[0;32m   <a href='file:///c%3A/Users/APinto/anaconda3/envs/projeto_apspacy/lib/site-packages/spacy/util.py?line=1596'>1597</a>\u001b[0m     \u001b[39mif\u001b[39;00m \u001b[39mhasattr\u001b[39m(proc, \u001b[39m\"\u001b[39m\u001b[39mpipe\u001b[39m\u001b[39m\"\u001b[39m):\n\u001b[1;32m-> <a href='file:///c%3A/Users/APinto/anaconda3/envs/projeto_apspacy/lib/site-packages/spacy/util.py?line=1597'>1598</a>\u001b[0m         \u001b[39myield from\u001b[39;00m proc\u001b[39m.\u001b[39mpipe(docs, \u001b[39m*\u001b[39m\u001b[39m*\u001b[39mkwargs)\n\u001b[0;32m   <a href='file:///c%3A/Users/APinto/anaconda3/envs/projeto_apspacy/lib/site-packages/spacy/util.py?line=1598'>1599</a>\u001b[0m     \u001b[39melse\u001b[39;00m:\n\u001b[0;32m   <a href='file:///c%3A/Users/APinto/anaconda3/envs/projeto_apspacy/lib/site-packages/spacy/util.py?line=1599'>1600</a>\u001b[0m         \u001b[39m# We added some args for pipe that __call__ doesn't expect.\u001b[39;00m\n\u001b[0;32m   <a href='file:///c%3A/Users/APinto/anaconda3/envs/projeto_apspacy/lib/site-packages/spacy/util.py?line=1600'>1601</a>\u001b[0m         kwargs \u001b[39m=\u001b[39m \u001b[39mdict\u001b[39m(kwargs)\n",
      "File \u001b[1;32m~\\anaconda3\\envs\\projeto_apspacy\\lib\\site-packages\\spacy\\pipeline\\trainable_pipe.pyx:79\u001b[0m, in \u001b[0;36mpipe\u001b[1;34m()\u001b[0m\n",
      "File \u001b[1;32m~\\anaconda3\\envs\\projeto_apspacy\\lib\\site-packages\\spacy\\util.py:1617\u001b[0m, in \u001b[0;36mraise_error\u001b[1;34m(proc_name, proc, docs, e)\u001b[0m\n\u001b[0;32m   <a href='file:///c%3A/Users/APinto/anaconda3/envs/projeto_apspacy/lib/site-packages/spacy/util.py?line=1615'>1616</a>\u001b[0m \u001b[39mdef\u001b[39;00m \u001b[39mraise_error\u001b[39m(proc_name, proc, docs, e):\n\u001b[1;32m-> <a href='file:///c%3A/Users/APinto/anaconda3/envs/projeto_apspacy/lib/site-packages/spacy/util.py?line=1616'>1617</a>\u001b[0m     \u001b[39mraise\u001b[39;00m e\n",
      "File \u001b[1;32m~\\anaconda3\\envs\\projeto_apspacy\\lib\\site-packages\\spacy\\pipeline\\trainable_pipe.pyx:75\u001b[0m, in \u001b[0;36mspacy.pipeline.trainable_pipe.TrainablePipe.pipe\u001b[1;34m()\u001b[0m\n",
      "File \u001b[1;32m~\\anaconda3\\envs\\projeto_apspacy\\lib\\site-packages\\spacy\\pipeline\\textcat.py:191\u001b[0m, in \u001b[0;36mTextCategorizer.predict\u001b[1;34m(self, docs)\u001b[0m\n\u001b[0;32m    <a href='file:///c%3A/Users/APinto/anaconda3/envs/projeto_apspacy/lib/site-packages/spacy/pipeline/textcat.py?line=188'>189</a>\u001b[0m     scores \u001b[39m=\u001b[39m xp\u001b[39m.\u001b[39mzeros((\u001b[39mlen\u001b[39m(\u001b[39mlist\u001b[39m(docs)), \u001b[39mlen\u001b[39m(\u001b[39mself\u001b[39m\u001b[39m.\u001b[39mlabels)))\n\u001b[0;32m    <a href='file:///c%3A/Users/APinto/anaconda3/envs/projeto_apspacy/lib/site-packages/spacy/pipeline/textcat.py?line=189'>190</a>\u001b[0m     \u001b[39mreturn\u001b[39;00m scores\n\u001b[1;32m--> <a href='file:///c%3A/Users/APinto/anaconda3/envs/projeto_apspacy/lib/site-packages/spacy/pipeline/textcat.py?line=190'>191</a>\u001b[0m scores \u001b[39m=\u001b[39m \u001b[39mself\u001b[39;49m\u001b[39m.\u001b[39;49mmodel\u001b[39m.\u001b[39;49mpredict(docs)\n\u001b[0;32m    <a href='file:///c%3A/Users/APinto/anaconda3/envs/projeto_apspacy/lib/site-packages/spacy/pipeline/textcat.py?line=191'>192</a>\u001b[0m scores \u001b[39m=\u001b[39m \u001b[39mself\u001b[39m\u001b[39m.\u001b[39mmodel\u001b[39m.\u001b[39mops\u001b[39m.\u001b[39masarray(scores)\n\u001b[0;32m    <a href='file:///c%3A/Users/APinto/anaconda3/envs/projeto_apspacy/lib/site-packages/spacy/pipeline/textcat.py?line=192'>193</a>\u001b[0m \u001b[39mreturn\u001b[39;00m scores\n",
      "File \u001b[1;32m~\\anaconda3\\envs\\projeto_apspacy\\lib\\site-packages\\thinc\\model.py:315\u001b[0m, in \u001b[0;36mModel.predict\u001b[1;34m(self, X)\u001b[0m\n\u001b[0;32m    <a href='file:///c%3A/Users/APinto/anaconda3/envs/projeto_apspacy/lib/site-packages/thinc/model.py?line=310'>311</a>\u001b[0m \u001b[39mdef\u001b[39;00m \u001b[39mpredict\u001b[39m(\u001b[39mself\u001b[39m, X: InT) \u001b[39m-\u001b[39m\u001b[39m>\u001b[39m OutT:\n\u001b[0;32m    <a href='file:///c%3A/Users/APinto/anaconda3/envs/projeto_apspacy/lib/site-packages/thinc/model.py?line=311'>312</a>\u001b[0m     \u001b[39m\"\"\"Call the model's `forward` function with `is_train=False`, and return\u001b[39;00m\n\u001b[0;32m    <a href='file:///c%3A/Users/APinto/anaconda3/envs/projeto_apspacy/lib/site-packages/thinc/model.py?line=312'>313</a>\u001b[0m \u001b[39m    only the output, instead of the `(output, callback)` tuple.\u001b[39;00m\n\u001b[0;32m    <a href='file:///c%3A/Users/APinto/anaconda3/envs/projeto_apspacy/lib/site-packages/thinc/model.py?line=313'>314</a>\u001b[0m \u001b[39m    \"\"\"\u001b[39;00m\n\u001b[1;32m--> <a href='file:///c%3A/Users/APinto/anaconda3/envs/projeto_apspacy/lib/site-packages/thinc/model.py?line=314'>315</a>\u001b[0m     \u001b[39mreturn\u001b[39;00m \u001b[39mself\u001b[39;49m\u001b[39m.\u001b[39;49m_func(\u001b[39mself\u001b[39;49m, X, is_train\u001b[39m=\u001b[39;49m\u001b[39mFalse\u001b[39;49;00m)[\u001b[39m0\u001b[39m]\n",
      "File \u001b[1;32m~\\anaconda3\\envs\\projeto_apspacy\\lib\\site-packages\\thinc\\layers\\chain.py:54\u001b[0m, in \u001b[0;36mforward\u001b[1;34m(model, X, is_train)\u001b[0m\n\u001b[0;32m     <a href='file:///c%3A/Users/APinto/anaconda3/envs/projeto_apspacy/lib/site-packages/thinc/layers/chain.py?line=51'>52</a>\u001b[0m callbacks \u001b[39m=\u001b[39m []\n\u001b[0;32m     <a href='file:///c%3A/Users/APinto/anaconda3/envs/projeto_apspacy/lib/site-packages/thinc/layers/chain.py?line=52'>53</a>\u001b[0m \u001b[39mfor\u001b[39;00m layer \u001b[39min\u001b[39;00m model\u001b[39m.\u001b[39mlayers:\n\u001b[1;32m---> <a href='file:///c%3A/Users/APinto/anaconda3/envs/projeto_apspacy/lib/site-packages/thinc/layers/chain.py?line=53'>54</a>\u001b[0m     Y, inc_layer_grad \u001b[39m=\u001b[39m layer(X, is_train\u001b[39m=\u001b[39;49mis_train)\n\u001b[0;32m     <a href='file:///c%3A/Users/APinto/anaconda3/envs/projeto_apspacy/lib/site-packages/thinc/layers/chain.py?line=54'>55</a>\u001b[0m     callbacks\u001b[39m.\u001b[39mappend(inc_layer_grad)\n\u001b[0;32m     <a href='file:///c%3A/Users/APinto/anaconda3/envs/projeto_apspacy/lib/site-packages/thinc/layers/chain.py?line=55'>56</a>\u001b[0m     X \u001b[39m=\u001b[39m Y\n",
      "File \u001b[1;32m~\\anaconda3\\envs\\projeto_apspacy\\lib\\site-packages\\thinc\\model.py:291\u001b[0m, in \u001b[0;36mModel.__call__\u001b[1;34m(self, X, is_train)\u001b[0m\n\u001b[0;32m    <a href='file:///c%3A/Users/APinto/anaconda3/envs/projeto_apspacy/lib/site-packages/thinc/model.py?line=287'>288</a>\u001b[0m \u001b[39mdef\u001b[39;00m \u001b[39m__call__\u001b[39m(\u001b[39mself\u001b[39m, X: InT, is_train: \u001b[39mbool\u001b[39m) \u001b[39m-\u001b[39m\u001b[39m>\u001b[39m Tuple[OutT, Callable]:\n\u001b[0;32m    <a href='file:///c%3A/Users/APinto/anaconda3/envs/projeto_apspacy/lib/site-packages/thinc/model.py?line=288'>289</a>\u001b[0m     \u001b[39m\"\"\"Call the model's `forward` function, returning the output and a\u001b[39;00m\n\u001b[0;32m    <a href='file:///c%3A/Users/APinto/anaconda3/envs/projeto_apspacy/lib/site-packages/thinc/model.py?line=289'>290</a>\u001b[0m \u001b[39m    callback to compute the gradients via backpropagation.\"\"\"\u001b[39;00m\n\u001b[1;32m--> <a href='file:///c%3A/Users/APinto/anaconda3/envs/projeto_apspacy/lib/site-packages/thinc/model.py?line=290'>291</a>\u001b[0m     \u001b[39mreturn\u001b[39;00m \u001b[39mself\u001b[39;49m\u001b[39m.\u001b[39;49m_func(\u001b[39mself\u001b[39;49m, X, is_train\u001b[39m=\u001b[39;49mis_train)\n",
      "File \u001b[1;32m~\\anaconda3\\envs\\projeto_apspacy\\lib\\site-packages\\thinc\\layers\\concatenate.py:44\u001b[0m, in \u001b[0;36mforward\u001b[1;34m(model, X, is_train)\u001b[0m\n\u001b[0;32m     <a href='file:///c%3A/Users/APinto/anaconda3/envs/projeto_apspacy/lib/site-packages/thinc/layers/concatenate.py?line=42'>43</a>\u001b[0m \u001b[39mdef\u001b[39;00m \u001b[39mforward\u001b[39m(model: Model[InT, OutT], X: InT, is_train: \u001b[39mbool\u001b[39m) \u001b[39m-\u001b[39m\u001b[39m>\u001b[39m Tuple[OutT, Callable]:\n\u001b[1;32m---> <a href='file:///c%3A/Users/APinto/anaconda3/envs/projeto_apspacy/lib/site-packages/thinc/layers/concatenate.py?line=43'>44</a>\u001b[0m     Ys, callbacks \u001b[39m=\u001b[39m \u001b[39mzip\u001b[39m(\u001b[39m*\u001b[39m[layer(X, is_train\u001b[39m=\u001b[39mis_train) \u001b[39mfor\u001b[39;00m layer \u001b[39min\u001b[39;00m model\u001b[39m.\u001b[39mlayers])\n\u001b[0;32m     <a href='file:///c%3A/Users/APinto/anaconda3/envs/projeto_apspacy/lib/site-packages/thinc/layers/concatenate.py?line=44'>45</a>\u001b[0m     \u001b[39mif\u001b[39;00m \u001b[39misinstance\u001b[39m(Ys[\u001b[39m0\u001b[39m], \u001b[39mlist\u001b[39m):\n\u001b[0;32m     <a href='file:///c%3A/Users/APinto/anaconda3/envs/projeto_apspacy/lib/site-packages/thinc/layers/concatenate.py?line=45'>46</a>\u001b[0m         \u001b[39mreturn\u001b[39;00m _list_forward(model, X, Ys, callbacks, is_train)  \u001b[39m# type: ignore\u001b[39;00m\n",
      "File \u001b[1;32m~\\anaconda3\\envs\\projeto_apspacy\\lib\\site-packages\\thinc\\layers\\concatenate.py:44\u001b[0m, in \u001b[0;36m<listcomp>\u001b[1;34m(.0)\u001b[0m\n\u001b[0;32m     <a href='file:///c%3A/Users/APinto/anaconda3/envs/projeto_apspacy/lib/site-packages/thinc/layers/concatenate.py?line=42'>43</a>\u001b[0m \u001b[39mdef\u001b[39;00m \u001b[39mforward\u001b[39m(model: Model[InT, OutT], X: InT, is_train: \u001b[39mbool\u001b[39m) \u001b[39m-\u001b[39m\u001b[39m>\u001b[39m Tuple[OutT, Callable]:\n\u001b[1;32m---> <a href='file:///c%3A/Users/APinto/anaconda3/envs/projeto_apspacy/lib/site-packages/thinc/layers/concatenate.py?line=43'>44</a>\u001b[0m     Ys, callbacks \u001b[39m=\u001b[39m \u001b[39mzip\u001b[39m(\u001b[39m*\u001b[39m[layer(X, is_train\u001b[39m=\u001b[39;49mis_train) \u001b[39mfor\u001b[39;00m layer \u001b[39min\u001b[39;00m model\u001b[39m.\u001b[39mlayers])\n\u001b[0;32m     <a href='file:///c%3A/Users/APinto/anaconda3/envs/projeto_apspacy/lib/site-packages/thinc/layers/concatenate.py?line=44'>45</a>\u001b[0m     \u001b[39mif\u001b[39;00m \u001b[39misinstance\u001b[39m(Ys[\u001b[39m0\u001b[39m], \u001b[39mlist\u001b[39m):\n\u001b[0;32m     <a href='file:///c%3A/Users/APinto/anaconda3/envs/projeto_apspacy/lib/site-packages/thinc/layers/concatenate.py?line=45'>46</a>\u001b[0m         \u001b[39mreturn\u001b[39;00m _list_forward(model, X, Ys, callbacks, is_train)  \u001b[39m# type: ignore\u001b[39;00m\n",
      "File \u001b[1;32m~\\anaconda3\\envs\\projeto_apspacy\\lib\\site-packages\\thinc\\model.py:291\u001b[0m, in \u001b[0;36mModel.__call__\u001b[1;34m(self, X, is_train)\u001b[0m\n\u001b[0;32m    <a href='file:///c%3A/Users/APinto/anaconda3/envs/projeto_apspacy/lib/site-packages/thinc/model.py?line=287'>288</a>\u001b[0m \u001b[39mdef\u001b[39;00m \u001b[39m__call__\u001b[39m(\u001b[39mself\u001b[39m, X: InT, is_train: \u001b[39mbool\u001b[39m) \u001b[39m-\u001b[39m\u001b[39m>\u001b[39m Tuple[OutT, Callable]:\n\u001b[0;32m    <a href='file:///c%3A/Users/APinto/anaconda3/envs/projeto_apspacy/lib/site-packages/thinc/model.py?line=288'>289</a>\u001b[0m     \u001b[39m\"\"\"Call the model's `forward` function, returning the output and a\u001b[39;00m\n\u001b[0;32m    <a href='file:///c%3A/Users/APinto/anaconda3/envs/projeto_apspacy/lib/site-packages/thinc/model.py?line=289'>290</a>\u001b[0m \u001b[39m    callback to compute the gradients via backpropagation.\"\"\"\u001b[39;00m\n\u001b[1;32m--> <a href='file:///c%3A/Users/APinto/anaconda3/envs/projeto_apspacy/lib/site-packages/thinc/model.py?line=290'>291</a>\u001b[0m     \u001b[39mreturn\u001b[39;00m \u001b[39mself\u001b[39;49m\u001b[39m.\u001b[39;49m_func(\u001b[39mself\u001b[39;49m, X, is_train\u001b[39m=\u001b[39;49mis_train)\n",
      "File \u001b[1;32m~\\anaconda3\\envs\\projeto_apspacy\\lib\\site-packages\\thinc\\layers\\chain.py:54\u001b[0m, in \u001b[0;36mforward\u001b[1;34m(model, X, is_train)\u001b[0m\n\u001b[0;32m     <a href='file:///c%3A/Users/APinto/anaconda3/envs/projeto_apspacy/lib/site-packages/thinc/layers/chain.py?line=51'>52</a>\u001b[0m callbacks \u001b[39m=\u001b[39m []\n\u001b[0;32m     <a href='file:///c%3A/Users/APinto/anaconda3/envs/projeto_apspacy/lib/site-packages/thinc/layers/chain.py?line=52'>53</a>\u001b[0m \u001b[39mfor\u001b[39;00m layer \u001b[39min\u001b[39;00m model\u001b[39m.\u001b[39mlayers:\n\u001b[1;32m---> <a href='file:///c%3A/Users/APinto/anaconda3/envs/projeto_apspacy/lib/site-packages/thinc/layers/chain.py?line=53'>54</a>\u001b[0m     Y, inc_layer_grad \u001b[39m=\u001b[39m layer(X, is_train\u001b[39m=\u001b[39;49mis_train)\n\u001b[0;32m     <a href='file:///c%3A/Users/APinto/anaconda3/envs/projeto_apspacy/lib/site-packages/thinc/layers/chain.py?line=54'>55</a>\u001b[0m     callbacks\u001b[39m.\u001b[39mappend(inc_layer_grad)\n\u001b[0;32m     <a href='file:///c%3A/Users/APinto/anaconda3/envs/projeto_apspacy/lib/site-packages/thinc/layers/chain.py?line=55'>56</a>\u001b[0m     X \u001b[39m=\u001b[39m Y\n",
      "File \u001b[1;32m~\\anaconda3\\envs\\projeto_apspacy\\lib\\site-packages\\thinc\\model.py:291\u001b[0m, in \u001b[0;36mModel.__call__\u001b[1;34m(self, X, is_train)\u001b[0m\n\u001b[0;32m    <a href='file:///c%3A/Users/APinto/anaconda3/envs/projeto_apspacy/lib/site-packages/thinc/model.py?line=287'>288</a>\u001b[0m \u001b[39mdef\u001b[39;00m \u001b[39m__call__\u001b[39m(\u001b[39mself\u001b[39m, X: InT, is_train: \u001b[39mbool\u001b[39m) \u001b[39m-\u001b[39m\u001b[39m>\u001b[39m Tuple[OutT, Callable]:\n\u001b[0;32m    <a href='file:///c%3A/Users/APinto/anaconda3/envs/projeto_apspacy/lib/site-packages/thinc/model.py?line=288'>289</a>\u001b[0m     \u001b[39m\"\"\"Call the model's `forward` function, returning the output and a\u001b[39;00m\n\u001b[0;32m    <a href='file:///c%3A/Users/APinto/anaconda3/envs/projeto_apspacy/lib/site-packages/thinc/model.py?line=289'>290</a>\u001b[0m \u001b[39m    callback to compute the gradients via backpropagation.\"\"\"\u001b[39;00m\n\u001b[1;32m--> <a href='file:///c%3A/Users/APinto/anaconda3/envs/projeto_apspacy/lib/site-packages/thinc/model.py?line=290'>291</a>\u001b[0m     \u001b[39mreturn\u001b[39;00m \u001b[39mself\u001b[39;49m\u001b[39m.\u001b[39;49m_func(\u001b[39mself\u001b[39;49m, X, is_train\u001b[39m=\u001b[39;49mis_train)\n",
      "File \u001b[1;32m~\\anaconda3\\envs\\projeto_apspacy\\lib\\site-packages\\thinc\\layers\\with_cpu.py:24\u001b[0m, in \u001b[0;36mforward\u001b[1;34m(model, X, is_train)\u001b[0m\n\u001b[0;32m     <a href='file:///c%3A/Users/APinto/anaconda3/envs/projeto_apspacy/lib/site-packages/thinc/layers/with_cpu.py?line=22'>23</a>\u001b[0m \u001b[39mdef\u001b[39;00m \u001b[39mforward\u001b[39m(model: Model, X: Any, is_train: \u001b[39mbool\u001b[39m) \u001b[39m-\u001b[39m\u001b[39m>\u001b[39m Tuple[Any, Callable]:\n\u001b[1;32m---> <a href='file:///c%3A/Users/APinto/anaconda3/envs/projeto_apspacy/lib/site-packages/thinc/layers/with_cpu.py?line=23'>24</a>\u001b[0m     cpu_outputs, backprop \u001b[39m=\u001b[39m model\u001b[39m.\u001b[39;49mlayers[\u001b[39m0\u001b[39;49m]\u001b[39m.\u001b[39;49mbegin_update(_to_cpu(X))\n\u001b[0;32m     <a href='file:///c%3A/Users/APinto/anaconda3/envs/projeto_apspacy/lib/site-packages/thinc/layers/with_cpu.py?line=24'>25</a>\u001b[0m     gpu_outputs \u001b[39m=\u001b[39m _to_device(model\u001b[39m.\u001b[39mops, cpu_outputs)\n\u001b[0;32m     <a href='file:///c%3A/Users/APinto/anaconda3/envs/projeto_apspacy/lib/site-packages/thinc/layers/with_cpu.py?line=26'>27</a>\u001b[0m     \u001b[39mdef\u001b[39;00m \u001b[39mwith_cpu_backprop\u001b[39m(d_outputs):\n",
      "File \u001b[1;32m~\\anaconda3\\envs\\projeto_apspacy\\lib\\site-packages\\thinc\\model.py:309\u001b[0m, in \u001b[0;36mModel.begin_update\u001b[1;34m(self, X)\u001b[0m\n\u001b[0;32m    <a href='file:///c%3A/Users/APinto/anaconda3/envs/projeto_apspacy/lib/site-packages/thinc/model.py?line=301'>302</a>\u001b[0m \u001b[39mdef\u001b[39;00m \u001b[39mbegin_update\u001b[39m(\u001b[39mself\u001b[39m, X: InT) \u001b[39m-\u001b[39m\u001b[39m>\u001b[39m Tuple[OutT, Callable[[InT], OutT]]:\n\u001b[0;32m    <a href='file:///c%3A/Users/APinto/anaconda3/envs/projeto_apspacy/lib/site-packages/thinc/model.py?line=302'>303</a>\u001b[0m     \u001b[39m\"\"\"Run the model over a batch of data, returning the output and a\u001b[39;00m\n\u001b[0;32m    <a href='file:///c%3A/Users/APinto/anaconda3/envs/projeto_apspacy/lib/site-packages/thinc/model.py?line=303'>304</a>\u001b[0m \u001b[39m    callback to complete the backward pass. A tuple (Y, finish_update),\u001b[39;00m\n\u001b[0;32m    <a href='file:///c%3A/Users/APinto/anaconda3/envs/projeto_apspacy/lib/site-packages/thinc/model.py?line=304'>305</a>\u001b[0m \u001b[39m    where Y is a batch of output data, and finish_update is a callback that\u001b[39;00m\n\u001b[0;32m    <a href='file:///c%3A/Users/APinto/anaconda3/envs/projeto_apspacy/lib/site-packages/thinc/model.py?line=305'>306</a>\u001b[0m \u001b[39m    takes the gradient with respect to the output and an optimizer function,\u001b[39;00m\n\u001b[0;32m    <a href='file:///c%3A/Users/APinto/anaconda3/envs/projeto_apspacy/lib/site-packages/thinc/model.py?line=306'>307</a>\u001b[0m \u001b[39m    and returns the gradient with respect to the input.\u001b[39;00m\n\u001b[0;32m    <a href='file:///c%3A/Users/APinto/anaconda3/envs/projeto_apspacy/lib/site-packages/thinc/model.py?line=307'>308</a>\u001b[0m \u001b[39m    \"\"\"\u001b[39;00m\n\u001b[1;32m--> <a href='file:///c%3A/Users/APinto/anaconda3/envs/projeto_apspacy/lib/site-packages/thinc/model.py?line=308'>309</a>\u001b[0m     \u001b[39mreturn\u001b[39;00m \u001b[39mself\u001b[39;49m\u001b[39m.\u001b[39;49m_func(\u001b[39mself\u001b[39;49m, X, is_train\u001b[39m=\u001b[39;49m\u001b[39mTrue\u001b[39;49;00m)\n",
      "File \u001b[1;32m~\\anaconda3\\envs\\projeto_apspacy\\lib\\site-packages\\thinc\\layers\\chain.py:54\u001b[0m, in \u001b[0;36mforward\u001b[1;34m(model, X, is_train)\u001b[0m\n\u001b[0;32m     <a href='file:///c%3A/Users/APinto/anaconda3/envs/projeto_apspacy/lib/site-packages/thinc/layers/chain.py?line=51'>52</a>\u001b[0m callbacks \u001b[39m=\u001b[39m []\n\u001b[0;32m     <a href='file:///c%3A/Users/APinto/anaconda3/envs/projeto_apspacy/lib/site-packages/thinc/layers/chain.py?line=52'>53</a>\u001b[0m \u001b[39mfor\u001b[39;00m layer \u001b[39min\u001b[39;00m model\u001b[39m.\u001b[39mlayers:\n\u001b[1;32m---> <a href='file:///c%3A/Users/APinto/anaconda3/envs/projeto_apspacy/lib/site-packages/thinc/layers/chain.py?line=53'>54</a>\u001b[0m     Y, inc_layer_grad \u001b[39m=\u001b[39m layer(X, is_train\u001b[39m=\u001b[39;49mis_train)\n\u001b[0;32m     <a href='file:///c%3A/Users/APinto/anaconda3/envs/projeto_apspacy/lib/site-packages/thinc/layers/chain.py?line=54'>55</a>\u001b[0m     callbacks\u001b[39m.\u001b[39mappend(inc_layer_grad)\n\u001b[0;32m     <a href='file:///c%3A/Users/APinto/anaconda3/envs/projeto_apspacy/lib/site-packages/thinc/layers/chain.py?line=55'>56</a>\u001b[0m     X \u001b[39m=\u001b[39m Y\n",
      "File \u001b[1;32m~\\anaconda3\\envs\\projeto_apspacy\\lib\\site-packages\\thinc\\model.py:291\u001b[0m, in \u001b[0;36mModel.__call__\u001b[1;34m(self, X, is_train)\u001b[0m\n\u001b[0;32m    <a href='file:///c%3A/Users/APinto/anaconda3/envs/projeto_apspacy/lib/site-packages/thinc/model.py?line=287'>288</a>\u001b[0m \u001b[39mdef\u001b[39;00m \u001b[39m__call__\u001b[39m(\u001b[39mself\u001b[39m, X: InT, is_train: \u001b[39mbool\u001b[39m) \u001b[39m-\u001b[39m\u001b[39m>\u001b[39m Tuple[OutT, Callable]:\n\u001b[0;32m    <a href='file:///c%3A/Users/APinto/anaconda3/envs/projeto_apspacy/lib/site-packages/thinc/model.py?line=288'>289</a>\u001b[0m     \u001b[39m\"\"\"Call the model's `forward` function, returning the output and a\u001b[39;00m\n\u001b[0;32m    <a href='file:///c%3A/Users/APinto/anaconda3/envs/projeto_apspacy/lib/site-packages/thinc/model.py?line=289'>290</a>\u001b[0m \u001b[39m    callback to compute the gradients via backpropagation.\"\"\"\u001b[39;00m\n\u001b[1;32m--> <a href='file:///c%3A/Users/APinto/anaconda3/envs/projeto_apspacy/lib/site-packages/thinc/model.py?line=290'>291</a>\u001b[0m     \u001b[39mreturn\u001b[39;00m \u001b[39mself\u001b[39;49m\u001b[39m.\u001b[39;49m_func(\u001b[39mself\u001b[39;49m, X, is_train\u001b[39m=\u001b[39;49mis_train)\n",
      "File \u001b[1;32m~\\anaconda3\\envs\\projeto_apspacy\\lib\\site-packages\\thinc\\layers\\resizable.py:27\u001b[0m, in \u001b[0;36mforward\u001b[1;34m(model, X, is_train)\u001b[0m\n\u001b[0;32m     <a href='file:///c%3A/Users/APinto/anaconda3/envs/projeto_apspacy/lib/site-packages/thinc/layers/resizable.py?line=24'>25</a>\u001b[0m \u001b[39mdef\u001b[39;00m \u001b[39mforward\u001b[39m(model: Model[InT, OutT], X: InT, is_train: \u001b[39mbool\u001b[39m):\n\u001b[0;32m     <a href='file:///c%3A/Users/APinto/anaconda3/envs/projeto_apspacy/lib/site-packages/thinc/layers/resizable.py?line=25'>26</a>\u001b[0m     layer \u001b[39m=\u001b[39m model\u001b[39m.\u001b[39mlayers[\u001b[39m0\u001b[39m]\n\u001b[1;32m---> <a href='file:///c%3A/Users/APinto/anaconda3/envs/projeto_apspacy/lib/site-packages/thinc/layers/resizable.py?line=26'>27</a>\u001b[0m     Y, callback \u001b[39m=\u001b[39m layer(X, is_train\u001b[39m=\u001b[39;49mis_train)\n\u001b[0;32m     <a href='file:///c%3A/Users/APinto/anaconda3/envs/projeto_apspacy/lib/site-packages/thinc/layers/resizable.py?line=28'>29</a>\u001b[0m     \u001b[39mdef\u001b[39;00m \u001b[39mbackprop\u001b[39m(dY: OutT) \u001b[39m-\u001b[39m\u001b[39m>\u001b[39m InT:\n\u001b[0;32m     <a href='file:///c%3A/Users/APinto/anaconda3/envs/projeto_apspacy/lib/site-packages/thinc/layers/resizable.py?line=29'>30</a>\u001b[0m         \u001b[39mreturn\u001b[39;00m callback(dY)\n",
      "File \u001b[1;32m~\\anaconda3\\envs\\projeto_apspacy\\lib\\site-packages\\thinc\\model.py:291\u001b[0m, in \u001b[0;36mModel.__call__\u001b[1;34m(self, X, is_train)\u001b[0m\n\u001b[0;32m    <a href='file:///c%3A/Users/APinto/anaconda3/envs/projeto_apspacy/lib/site-packages/thinc/model.py?line=287'>288</a>\u001b[0m \u001b[39mdef\u001b[39;00m \u001b[39m__call__\u001b[39m(\u001b[39mself\u001b[39m, X: InT, is_train: \u001b[39mbool\u001b[39m) \u001b[39m-\u001b[39m\u001b[39m>\u001b[39m Tuple[OutT, Callable]:\n\u001b[0;32m    <a href='file:///c%3A/Users/APinto/anaconda3/envs/projeto_apspacy/lib/site-packages/thinc/model.py?line=288'>289</a>\u001b[0m     \u001b[39m\"\"\"Call the model's `forward` function, returning the output and a\u001b[39;00m\n\u001b[0;32m    <a href='file:///c%3A/Users/APinto/anaconda3/envs/projeto_apspacy/lib/site-packages/thinc/model.py?line=289'>290</a>\u001b[0m \u001b[39m    callback to compute the gradients via backpropagation.\"\"\"\u001b[39;00m\n\u001b[1;32m--> <a href='file:///c%3A/Users/APinto/anaconda3/envs/projeto_apspacy/lib/site-packages/thinc/model.py?line=290'>291</a>\u001b[0m     \u001b[39mreturn\u001b[39;00m \u001b[39mself\u001b[39;49m\u001b[39m.\u001b[39;49m_func(\u001b[39mself\u001b[39;49m, X, is_train\u001b[39m=\u001b[39;49mis_train)\n",
      "File \u001b[1;32m~\\anaconda3\\envs\\projeto_apspacy\\lib\\site-packages\\thinc\\layers\\sparselinear.pyx:43\u001b[0m, in \u001b[0;36mthinc.layers.sparselinear.forward\u001b[1;34m()\u001b[0m\n",
      "File \u001b[1;32m~\\anaconda3\\envs\\projeto_apspacy\\lib\\site-packages\\thinc\\layers\\sparselinear.pyx:68\u001b[0m, in \u001b[0;36mthinc.layers.sparselinear._begin_cpu_update\u001b[1;34m()\u001b[0m\n",
      "File \u001b[1;32m~\\anaconda3\\envs\\projeto_apspacy\\lib\\site-packages\\thinc\\model.py:175\u001b[0m, in \u001b[0;36mModel.get_dim\u001b[1;34m(self, name)\u001b[0m\n\u001b[0;32m    <a href='file:///c%3A/Users/APinto/anaconda3/envs/projeto_apspacy/lib/site-packages/thinc/model.py?line=172'>173</a>\u001b[0m \u001b[39mif\u001b[39;00m value \u001b[39mis\u001b[39;00m \u001b[39mNone\u001b[39;00m:\n\u001b[0;32m    <a href='file:///c%3A/Users/APinto/anaconda3/envs/projeto_apspacy/lib/site-packages/thinc/model.py?line=173'>174</a>\u001b[0m     err \u001b[39m=\u001b[39m \u001b[39mf\u001b[39m\u001b[39m\"\u001b[39m\u001b[39mCannot get dimension \u001b[39m\u001b[39m'\u001b[39m\u001b[39m{\u001b[39;00mname\u001b[39m}\u001b[39;00m\u001b[39m'\u001b[39m\u001b[39m for model \u001b[39m\u001b[39m'\u001b[39m\u001b[39m{\u001b[39;00m\u001b[39mself\u001b[39m\u001b[39m.\u001b[39mname\u001b[39m}\u001b[39;00m\u001b[39m'\u001b[39m\u001b[39m: value unset\u001b[39m\u001b[39m\"\u001b[39m\n\u001b[1;32m--> <a href='file:///c%3A/Users/APinto/anaconda3/envs/projeto_apspacy/lib/site-packages/thinc/model.py?line=174'>175</a>\u001b[0m     \u001b[39mraise\u001b[39;00m \u001b[39mValueError\u001b[39;00m(err)\n\u001b[0;32m    <a href='file:///c%3A/Users/APinto/anaconda3/envs/projeto_apspacy/lib/site-packages/thinc/model.py?line=175'>176</a>\u001b[0m \u001b[39melse\u001b[39;00m:\n\u001b[0;32m    <a href='file:///c%3A/Users/APinto/anaconda3/envs/projeto_apspacy/lib/site-packages/thinc/model.py?line=176'>177</a>\u001b[0m     \u001b[39mreturn\u001b[39;00m value\n",
      "\u001b[1;31mValueError\u001b[0m: Cannot get dimension 'nO' for model 'sparse_linear': value unset"
     ]
    }
   ],
   "source": [
    "## create training and validation data\n",
    "#num_texts = 4500 # amount of validation and training generated\n",
    "\n",
    "train_docs = make_docs(train_data)\n",
    "doc_bin = DocBin(docs=train_docs)\n",
    "doc_bin.to_disk(\"./C:/Test folder/KnowingSpacy/self learning/train.spacy\")\n",
    "\n",
    "# valid_docs = make_docs(valid_data[:num_texts])\n",
    "# second_doc_bin= DocBin(docs=valid_docs)\n",
    "# second_doc_bin.to_disk(\"./C:/Test folder/KnowingSpacy/self learning/valid.spacy\")"
   ]
  },
  {
   "cell_type": "code",
   "execution_count": null,
   "metadata": {},
   "outputs": [],
   "source": []
  },
  {
   "cell_type": "markdown",
   "metadata": {},
   "source": [
    "## DATA PREPARATION for SCKITLEARN"
   ]
  },
  {
   "cell_type": "code",
   "execution_count": 19,
   "metadata": {},
   "outputs": [],
   "source": [
    "X = test_under['tweet_text']\n",
    "y = test_under['sentiment']"
   ]
  },
  {
   "cell_type": "code",
   "execution_count": 20,
   "metadata": {},
   "outputs": [],
   "source": [
    "#### Create a train and test \n",
    "X_train, X_test, y_train, y_test = train_test_split(X, y, test_size = 0.2, random_state = 0)"
   ]
  },
  {
   "cell_type": "code",
   "execution_count": 21,
   "metadata": {},
   "outputs": [
    {
     "data": {
      "text/plain": [
       "((420971,), (105243,), (420971,), (105243,))"
      ]
     },
     "execution_count": 21,
     "metadata": {},
     "output_type": "execute_result"
    }
   ],
   "source": [
    "X_train.shape, X_test.shape, y_train.shape, y_test.shape"
   ]
  },
  {
   "cell_type": "code",
   "execution_count": null,
   "metadata": {},
   "outputs": [],
   "source": [
    "# pos = y_train[y_train == \"Positivo\"].count()\n",
    "# pos.shape"
   ]
  },
  {
   "cell_type": "code",
   "execution_count": null,
   "metadata": {},
   "outputs": [],
   "source": [
    "# neg = y_train[y_train == \"Negativo\"].count()\n",
    "# neg.shape"
   ]
  },
  {
   "cell_type": "code",
   "execution_count": null,
   "metadata": {},
   "outputs": [],
   "source": [
    "# tweets = []\n",
    "# for i in X_train:\n",
    "#     #print('working',  i)\n",
    "#     tweets.append(i)\n",
    "#     #tweets = ' '.join( [str(item) from item in tweets] )\n",
    "# print(tweets)"
   ]
  },
  {
   "cell_type": "code",
   "execution_count": 41,
   "metadata": {},
   "outputs": [],
   "source": []
  },
  {
   "cell_type": "code",
   "execution_count": null,
   "metadata": {},
   "outputs": [],
   "source": [
    "\n"
   ]
  },
  {
   "cell_type": "markdown",
   "metadata": {},
   "source": [
    "## MODELLING"
   ]
  },
  {
   "cell_type": "markdown",
   "metadata": {},
   "source": [
    "#### Training"
   ]
  },
  {
   "cell_type": "code",
   "execution_count": 54,
   "metadata": {},
   "outputs": [
    {
     "data": {
      "text/plain": [
       "['tok2vec',\n",
       " 'morphologizer',\n",
       " 'parser',\n",
       " 'attribute_ruler',\n",
       " 'lemmatizer',\n",
       " 'ner',\n",
       " 'textcat']"
      ]
     },
     "execution_count": 54,
     "metadata": {},
     "output_type": "execute_result"
    }
   ],
   "source": [
    "# Adding the built-in textcat component to the pipeline.\n",
    "from spacy.pipeline.textcat import DEFAULT_SINGLE_TEXTCAT_MODEL\n",
    "config = {\n",
    "   \"threshold\": 0.5,\n",
    "   \"model\": DEFAULT_SINGLE_TEXTCAT_MODEL,\n",
    "}\n",
    "if \"textcat\" not in nlp.pipe_names:\n",
    "    textcat = nlp.create_pipe(\"textcat\") # Creating the pipeline component\n",
    "    nlp.add_pipe(textcat)\n",
    "else:\n",
    "    textcat = nlp.get_pipe(\"textcat\") \n",
    "nlp.pipe_names"
   ]
  },
  {
   "cell_type": "code",
   "execution_count": 56,
   "metadata": {},
   "outputs": [
    {
     "data": {
      "text/plain": [
       "0"
      ]
     },
     "execution_count": 56,
     "metadata": {},
     "output_type": "execute_result"
    }
   ],
   "source": [
    "textcat.add_label(\"POSITIVO\")\n",
    "textcat.add_label(\"NEGATIVO\")"
   ]
  },
  {
   "cell_type": "code",
   "execution_count": 57,
   "metadata": {},
   "outputs": [
    {
     "data": {
      "text/plain": [
       "('POSITIVO', 'NEGATIVO')"
      ]
     },
     "execution_count": 57,
     "metadata": {},
     "output_type": "execute_result"
    }
   ],
   "source": [
    "labels_Textcat = nlp.get_pipe('textcat').labels\n",
    "labels_Textcat"
   ]
  },
  {
   "cell_type": "code",
   "execution_count": 33,
   "metadata": {},
   "outputs": [],
   "source": [
    "# Converting the dataframe into a list of tuples\n",
    "data['tuples'] = data.apply(lambda row: (row['tweet_text'],row['sentiment']), axis=1)\n",
    "train = data['tuples'].tolist()\n",
    "#train[:10]"
   ]
  },
  {
   "cell_type": "code",
   "execution_count": 46,
   "metadata": {},
   "outputs": [],
   "source": [
    "#train[:40]"
   ]
  },
  {
   "cell_type": "code",
   "execution_count": 41,
   "metadata": {},
   "outputs": [
    {
     "data": {
      "text/plain": [
       "('@whyparkjeon Quero um filme com a Ness e o Jacob juntos :((((((', 'Negativo')"
      ]
     },
     "execution_count": 41,
     "metadata": {},
     "output_type": "execute_result"
    }
   ],
   "source": [
    "train[0]"
   ]
  },
  {
   "cell_type": "code",
   "execution_count": 39,
   "metadata": {},
   "outputs": [
    {
     "data": {
      "text/plain": [
       "[('@whyparkjeon Quero um filme com a Ness e o Jacob juntos :((((((',\n",
       "  {'cats': {'POSITIVO': False, 'NEGATIVO': True}}),\n",
       " ('eu não dormi e tive paralisia :)))',\n",
       "  {'cats': {'POSITIVO': True, 'NEGATIVO': False}}),\n",
       " ('Hj fiz a sobrancelha depois de quase 6 meses :) q q wilson nova cara novo tudo',\n",
       "  {'cats': {'POSITIVO': True, 'NEGATIVO': False}}),\n",
       " ('quero morrer to torcendo pra eu perder todas as minhas forças sentindo essa colica e simplesmente morrer :)',\n",
       "  {'cats': {'POSITIVO': True, 'NEGATIVO': False}}),\n",
       " ('@eliizviana poxa meu bem :(',\n",
       "  {'cats': {'POSITIVO': False, 'NEGATIVO': True}}),\n",
       " ('sa ae mas :( https://t.co/WG173vc04I',\n",
       "  {'cats': {'POSITIVO': False, 'NEGATIVO': True}}),\n",
       " ('@Veltshook Se não for assim, não dá :P',\n",
       "  {'cats': {'POSITIVO': True, 'NEGATIVO': False}}),\n",
       " ('Puta que pariu isso lá é hora da minha rinite atacar :(',\n",
       "  {'cats': {'POSITIVO': False, 'NEGATIVO': True}}),\n",
       " ('odeio gene gordo tenho que fazer dieta, exercicio etc enquanto tem uns fdp que consegue ser magro sem nenhum esforço &gt;:(',\n",
       "  {'cats': {'POSITIVO': False, 'NEGATIVO': True}}),\n",
       " ('@itvsjesvs Já tive na orelha esquerda, e ainda não fechou. E tbh adorava mm o estilo, e kinda é a minha cara - a cena é que na altura tinha other goals e não era muito aceitável ter aquilo. Mas estou indeciso se devo ir both ou não :(',\n",
       "  {'cats': {'POSITIVO': False, 'NEGATIVO': True}}),\n",
       " ('Que pena que querer não é poder :(',\n",
       "  {'cats': {'POSITIVO': False, 'NEGATIVO': True}}),\n",
       " ('Amanhã vou ter q esperar sozinha desde as 11.50h até às 14h p causa do autocarro :)))',\n",
       "  {'cats': {'POSITIVO': True, 'NEGATIVO': False}}),\n",
       " ('Eu só quero um estágio :(',\n",
       "  {'cats': {'POSITIVO': False, 'NEGATIVO': True}}),\n",
       " ('Mais um... Heeh! :) https://t.co/lD0iJwc4aL',\n",
       "  {'cats': {'POSITIVO': True, 'NEGATIVO': False}}),\n",
       " ('@foreverfa13 Eu também :(',\n",
       "  {'cats': {'POSITIVO': False, 'NEGATIVO': True}}),\n",
       " ('@aninhaferrazzz ouve A Gente Nunca Conversou ( é do Lagum tbmm ) :)',\n",
       "  {'cats': {'POSITIVO': True, 'NEGATIVO': False}}),\n",
       " ('bar :-( : d4872e57-4422-4796-b653-a1a39f1bfe2d',\n",
       "  {'cats': {'POSITIVO': False, 'NEGATIVO': True}}),\n",
       " ('@PedroCCRegouga Pensava q eras o Riki.. Faço anos dia 31 :)))',\n",
       "  {'cats': {'POSITIVO': True, 'NEGATIVO': False}}),\n",
       " ('ganhei um cordão :D', {'cats': {'POSITIVO': True, 'NEGATIVO': False}}),\n",
       " ('mandem-me mensagens fofinhas :(',\n",
       "  {'cats': {'POSITIVO': False, 'NEGATIVO': True}}),\n",
       " ('@jrlove_tricolor Obrigada, Junior :)',\n",
       "  {'cats': {'POSITIVO': True, 'NEGATIVO': False}}),\n",
       " ('@cahlone Awn, aí sim :D', {'cats': {'POSITIVO': True, 'NEGATIVO': False}}),\n",
       " ('@jeskaline Adorei sua voz sexy :-)',\n",
       "  {'cats': {'POSITIVO': True, 'NEGATIVO': False}}),\n",
       " ('Dor de cabeça da porra. Gripe é uma merda :(',\n",
       "  {'cats': {'POSITIVO': False, 'NEGATIVO': True}}),\n",
       " ('preciso de um presidente bandido bom bandido morto sem ser o bolsonaro marina silva pfvr :(',\n",
       "  {'cats': {'POSITIVO': False, 'NEGATIVO': True}}),\n",
       " ('ainda consegue ficar mais bad a live em que a selenita chora cantando :( https://t.co/tZqpF4GCJr',\n",
       "  {'cats': {'POSITIVO': False, 'NEGATIVO': True}}),\n",
       " ('bar :-( : 86483ccb-c3b4-42d1-9d44-e6771a9f78a2',\n",
       "  {'cats': {'POSITIVO': False, 'NEGATIVO': True}}),\n",
       " ('@Kuddu_ NO PROBLEM!! :D', {'cats': {'POSITIVO': True, 'NEGATIVO': False}}),\n",
       " ('@cinzeiro3 sou eu que sou uma merda :( never mind lindo',\n",
       "  {'cats': {'POSITIVO': False, 'NEGATIVO': True}}),\n",
       " ('@orphicgal awwn, eu acredito :((',\n",
       "  {'cats': {'POSITIVO': False, 'NEGATIVO': True}}),\n",
       " ('uma dorzinha chatinha no meu carpo :(',\n",
       "  {'cats': {'POSITIVO': False, 'NEGATIVO': True}}),\n",
       " ('Perder um melhor amigo é quase como perder um familiar... eu faria de tudo para te poder ter de volta :(',\n",
       "  {'cats': {'POSITIVO': False, 'NEGATIVO': True}}),\n",
       " ('@r_nog Pois é, o pessoal podia esperar eu ficar rico pra me malhar só depois, pelo menos :P',\n",
       "  {'cats': {'POSITIVO': True, 'NEGATIVO': False}}),\n",
       " ('Poxa faltou só vc no baile do Qg ontem — :(((((( queria mto https://t.co/pfjct8dYOH',\n",
       "  {'cats': {'POSITIVO': False, 'NEGATIVO': True}}),\n",
       " ('mentira que eu sou 100% as duas e ninguém me quer :( https://t.co/nntX9n8ftJ',\n",
       "  {'cats': {'POSITIVO': False, 'NEGATIVO': True}}),\n",
       " ('tô afim de comer coxinha com catupiry :(',\n",
       "  {'cats': {'POSITIVO': False, 'NEGATIVO': True}}),\n",
       " ('O filme: “como não esquecer essa garota” é um dos meus preferidos, e nossa acho que to carente :( minha vida podia ser q nem nos filmes né',\n",
       "  {'cats': {'POSITIVO': False, 'NEGATIVO': True}}),\n",
       " ('quem nunca leu os livros nem sabe que a moto que o hagrid usa para transportar o harry bebê e depois para transportá-lo em relíquias da morte é na verdade do sirius black, sirius deu a moto pra ele pegar o harry antes de ir atrás do pettigrew e a merda toda acontecer :(',\n",
       "  {'cats': {'POSITIVO': False, 'NEGATIVO': True}}),\n",
       " ('só queria uma mom jeans :(',\n",
       "  {'cats': {'POSITIVO': False, 'NEGATIVO': True}}),\n",
       " ('@297YNOH é o que eu mais quero :(',\n",
       "  {'cats': {'POSITIVO': False, 'NEGATIVO': True}})]"
      ]
     },
     "execution_count": 39,
     "metadata": {},
     "output_type": "execute_result"
    }
   ],
   "source": [
    "import random\n",
    "\n",
    "def load_data(limit=0, split=0.8):\n",
    "    train_data=train\n",
    "    # Shuffle the data\n",
    "    random.shuffle(train_data)\n",
    "    texts, labels = zip(*train_data)\n",
    "    # get the categories for each review\n",
    "    cats = [{\"POSITIVO\": y == \"Positivo\", \"NEGATIVO\": y == \"Negativo\"} for y in labels]\n",
    "\n",
    "    # Splitting the training and evaluation data\n",
    "    split = int(len(train_data) * split)\n",
    "    return (texts[:split], cats[:split]), (texts[split:], cats[split:])\n",
    "\n",
    "n_texts=23486\n",
    "\n",
    "# Calling the load_data() function \n",
    "(train_texts, train_cats), (dev_texts, dev_cats) = load_data(limit=n_texts)\n",
    "\n",
    "# Processing the final format of training data\n",
    "train_data = list(zip(train_texts,[{'cats': cats} for cats in train_cats]))\n",
    "train_data[:40]"
   ]
  },
  {
   "cell_type": "code",
   "execution_count": 43,
   "metadata": {},
   "outputs": [],
   "source": [
    "#train_data[:10]"
   ]
  },
  {
   "cell_type": "markdown",
   "metadata": {},
   "source": [
    "### Evaluating"
   ]
  },
  {
   "cell_type": "code",
   "execution_count": 58,
   "metadata": {},
   "outputs": [],
   "source": [
    "def evaluate(tokenizer, textcat, texts, cats):\n",
    "    docs = (tokenizer(text) for text in texts)\n",
    "    tp = 0.0  # True positives\n",
    "    fp = 1e-8  # False positives\n",
    "    fn = 1e-8  # False negatives\n",
    "    tn = 0.0  # True negatives\n",
    "    for i, doc in enumerate(textcat.pipe(docs)):\n",
    "        gold = cats[i]\n",
    "        for label, score in doc.cats.items():\n",
    "            if label not in gold:\n",
    "                continue\n",
    "            if label == \"NEGATIVO\":\n",
    "                continue\n",
    "            if score >= 0.5 and gold[label] >= 0.5:\n",
    "                tp += 1.0\n",
    "            elif score >= 0.5 and gold[label] < 0.5:\n",
    "                fp += 1.0\n",
    "            elif score < 0.5 and gold[label] < 0.5:\n",
    "                tn += 1\n",
    "            elif score < 0.5 and gold[label] >= 0.5:\n",
    "                fn += 1\n",
    "    precision = tp / (tp + fp)\n",
    "    recall = tp / (tp + fn)\n",
    "    if (precision + recall) == 0:\n",
    "        f_score = 0.0\n",
    "    else:\n",
    "        f_score = 2 * (precision * recall) / (precision + recall)\n",
    "    return {\"textcat_p\": precision, \"textcat_r\": recall, \"textcat_f\": f_score}\n",
    "\n",
    "\n",
    "#(\"Number of training iterations\", \"n\", int))\n",
    "n_iter=10"
   ]
  },
  {
   "cell_type": "code",
   "execution_count": 45,
   "metadata": {},
   "outputs": [
    {
     "ename": "ValueError",
     "evalue": "[E955] Can't find table(s) lexeme_norm for language 'pt' in spacy-lookups-data. Make sure you have the package installed or provide your own lookup tables if no default lookups are available for your language.",
     "output_type": "error",
     "traceback": [
      "\u001b[1;31m---------------------------------------------------------------------------\u001b[0m",
      "\u001b[1;31mValueError\u001b[0m                                Traceback (most recent call last)",
      "\u001b[1;32mc:\\Test folder\\KnowingSpacy\\self learning\\pt model.ipynb Cell 53'\u001b[0m in \u001b[0;36m<cell line: 5>\u001b[1;34m()\u001b[0m\n\u001b[0;32m      <a href='vscode-notebook-cell:/c%3A/Test%20folder/KnowingSpacy/self%20learning/pt%20model.ipynb#ch0000051?line=3'>4</a>\u001b[0m other_pipes \u001b[39m=\u001b[39m [pipe \u001b[39mfor\u001b[39;00m pipe \u001b[39min\u001b[39;00m nlp\u001b[39m.\u001b[39mpipe_names \u001b[39mif\u001b[39;00m pipe \u001b[39m!=\u001b[39m \u001b[39m'\u001b[39m\u001b[39mtextcat\u001b[39m\u001b[39m'\u001b[39m]\n\u001b[0;32m      <a href='vscode-notebook-cell:/c%3A/Test%20folder/KnowingSpacy/self%20learning/pt%20model.ipynb#ch0000051?line=4'>5</a>\u001b[0m \u001b[39mwith\u001b[39;00m nlp\u001b[39m.\u001b[39mdisable_pipes(\u001b[39m*\u001b[39mother_pipes):  \u001b[39m# only train textcat\u001b[39;00m\n\u001b[1;32m----> <a href='vscode-notebook-cell:/c%3A/Test%20folder/KnowingSpacy/self%20learning/pt%20model.ipynb#ch0000051?line=5'>6</a>\u001b[0m     optimizer \u001b[39m=\u001b[39m nlp\u001b[39m.\u001b[39;49minitialize()\n\u001b[0;32m      <a href='vscode-notebook-cell:/c%3A/Test%20folder/KnowingSpacy/self%20learning/pt%20model.ipynb#ch0000051?line=7'>8</a>\u001b[0m     \u001b[39mprint\u001b[39m(\u001b[39m\"\u001b[39m\u001b[39mTraining the model...\u001b[39m\u001b[39m\"\u001b[39m)\n\u001b[0;32m      <a href='vscode-notebook-cell:/c%3A/Test%20folder/KnowingSpacy/self%20learning/pt%20model.ipynb#ch0000051?line=8'>9</a>\u001b[0m     \u001b[39mprint\u001b[39m(\u001b[39m'\u001b[39m\u001b[39m{:^5}\u001b[39;00m\u001b[39m\\t\u001b[39;00m\u001b[39m{:^5}\u001b[39;00m\u001b[39m\\t\u001b[39;00m\u001b[39m{:^5}\u001b[39;00m\u001b[39m\\t\u001b[39;00m\u001b[39m{:^5}\u001b[39;00m\u001b[39m'\u001b[39m\u001b[39m.\u001b[39mformat(\u001b[39m'\u001b[39m\u001b[39mLOSS\u001b[39m\u001b[39m'\u001b[39m, \u001b[39m'\u001b[39m\u001b[39mP\u001b[39m\u001b[39m'\u001b[39m, \u001b[39m'\u001b[39m\u001b[39mR\u001b[39m\u001b[39m'\u001b[39m, \u001b[39m'\u001b[39m\u001b[39mF\u001b[39m\u001b[39m'\u001b[39m))\n",
      "File \u001b[1;32m~\\anaconda3\\envs\\projeto_apspacy\\lib\\site-packages\\spacy\\language.py:1281\u001b[0m, in \u001b[0;36mLanguage.initialize\u001b[1;34m(self, get_examples, sgd)\u001b[0m\n\u001b[0;32m   <a href='file:///c%3A/Users/APinto/anaconda3/envs/projeto_apspacy/lib/site-packages/spacy/language.py?line=1278'>1279</a>\u001b[0m config \u001b[39m=\u001b[39m \u001b[39mself\u001b[39m\u001b[39m.\u001b[39mconfig\u001b[39m.\u001b[39minterpolate()\n\u001b[0;32m   <a href='file:///c%3A/Users/APinto/anaconda3/envs/projeto_apspacy/lib/site-packages/spacy/language.py?line=1279'>1280</a>\u001b[0m \u001b[39m# These are the settings provided in the [initialize] block in the config\u001b[39;00m\n\u001b[1;32m-> <a href='file:///c%3A/Users/APinto/anaconda3/envs/projeto_apspacy/lib/site-packages/spacy/language.py?line=1280'>1281</a>\u001b[0m I \u001b[39m=\u001b[39m registry\u001b[39m.\u001b[39;49mresolve(config[\u001b[39m\"\u001b[39;49m\u001b[39minitialize\u001b[39;49m\u001b[39m\"\u001b[39;49m], schema\u001b[39m=\u001b[39;49mConfigSchemaInit)\n\u001b[0;32m   <a href='file:///c%3A/Users/APinto/anaconda3/envs/projeto_apspacy/lib/site-packages/spacy/language.py?line=1281'>1282</a>\u001b[0m before_init \u001b[39m=\u001b[39m I[\u001b[39m\"\u001b[39m\u001b[39mbefore_init\u001b[39m\u001b[39m\"\u001b[39m]\n\u001b[0;32m   <a href='file:///c%3A/Users/APinto/anaconda3/envs/projeto_apspacy/lib/site-packages/spacy/language.py?line=1282'>1283</a>\u001b[0m \u001b[39mif\u001b[39;00m before_init \u001b[39mis\u001b[39;00m \u001b[39mnot\u001b[39;00m \u001b[39mNone\u001b[39;00m:\n",
      "File \u001b[1;32m~\\anaconda3\\envs\\projeto_apspacy\\lib\\site-packages\\thinc\\config.py:746\u001b[0m, in \u001b[0;36mregistry.resolve\u001b[1;34m(cls, config, schema, overrides, validate)\u001b[0m\n\u001b[0;32m    <a href='file:///c%3A/Users/APinto/anaconda3/envs/projeto_apspacy/lib/site-packages/thinc/config.py?line=736'>737</a>\u001b[0m \u001b[39m@classmethod\u001b[39m\n\u001b[0;32m    <a href='file:///c%3A/Users/APinto/anaconda3/envs/projeto_apspacy/lib/site-packages/thinc/config.py?line=737'>738</a>\u001b[0m \u001b[39mdef\u001b[39;00m \u001b[39mresolve\u001b[39m(\n\u001b[0;32m    <a href='file:///c%3A/Users/APinto/anaconda3/envs/projeto_apspacy/lib/site-packages/thinc/config.py?line=738'>739</a>\u001b[0m     \u001b[39mcls\u001b[39m,\n\u001b[1;32m   (...)\u001b[0m\n\u001b[0;32m    <a href='file:///c%3A/Users/APinto/anaconda3/envs/projeto_apspacy/lib/site-packages/thinc/config.py?line=743'>744</a>\u001b[0m     validate: \u001b[39mbool\u001b[39m \u001b[39m=\u001b[39m \u001b[39mTrue\u001b[39;00m,\n\u001b[0;32m    <a href='file:///c%3A/Users/APinto/anaconda3/envs/projeto_apspacy/lib/site-packages/thinc/config.py?line=744'>745</a>\u001b[0m ) \u001b[39m-\u001b[39m\u001b[39m>\u001b[39m Dict[\u001b[39mstr\u001b[39m, Any]:\n\u001b[1;32m--> <a href='file:///c%3A/Users/APinto/anaconda3/envs/projeto_apspacy/lib/site-packages/thinc/config.py?line=745'>746</a>\u001b[0m     resolved, _ \u001b[39m=\u001b[39m \u001b[39mcls\u001b[39;49m\u001b[39m.\u001b[39;49m_make(\n\u001b[0;32m    <a href='file:///c%3A/Users/APinto/anaconda3/envs/projeto_apspacy/lib/site-packages/thinc/config.py?line=746'>747</a>\u001b[0m         config, schema\u001b[39m=\u001b[39;49mschema, overrides\u001b[39m=\u001b[39;49moverrides, validate\u001b[39m=\u001b[39;49mvalidate, resolve\u001b[39m=\u001b[39;49m\u001b[39mTrue\u001b[39;49;00m\n\u001b[0;32m    <a href='file:///c%3A/Users/APinto/anaconda3/envs/projeto_apspacy/lib/site-packages/thinc/config.py?line=747'>748</a>\u001b[0m     )\n\u001b[0;32m    <a href='file:///c%3A/Users/APinto/anaconda3/envs/projeto_apspacy/lib/site-packages/thinc/config.py?line=748'>749</a>\u001b[0m     \u001b[39mreturn\u001b[39;00m resolved\n",
      "File \u001b[1;32m~\\anaconda3\\envs\\projeto_apspacy\\lib\\site-packages\\thinc\\config.py:795\u001b[0m, in \u001b[0;36mregistry._make\u001b[1;34m(cls, config, schema, overrides, resolve, validate)\u001b[0m\n\u001b[0;32m    <a href='file:///c%3A/Users/APinto/anaconda3/envs/projeto_apspacy/lib/site-packages/thinc/config.py?line=792'>793</a>\u001b[0m \u001b[39mif\u001b[39;00m \u001b[39mnot\u001b[39;00m is_interpolated:\n\u001b[0;32m    <a href='file:///c%3A/Users/APinto/anaconda3/envs/projeto_apspacy/lib/site-packages/thinc/config.py?line=793'>794</a>\u001b[0m     config \u001b[39m=\u001b[39m Config(orig_config)\u001b[39m.\u001b[39minterpolate()\n\u001b[1;32m--> <a href='file:///c%3A/Users/APinto/anaconda3/envs/projeto_apspacy/lib/site-packages/thinc/config.py?line=794'>795</a>\u001b[0m filled, _, resolved \u001b[39m=\u001b[39m \u001b[39mcls\u001b[39;49m\u001b[39m.\u001b[39;49m_fill(\n\u001b[0;32m    <a href='file:///c%3A/Users/APinto/anaconda3/envs/projeto_apspacy/lib/site-packages/thinc/config.py?line=795'>796</a>\u001b[0m     config, schema, validate\u001b[39m=\u001b[39;49mvalidate, overrides\u001b[39m=\u001b[39;49moverrides, resolve\u001b[39m=\u001b[39;49mresolve\n\u001b[0;32m    <a href='file:///c%3A/Users/APinto/anaconda3/envs/projeto_apspacy/lib/site-packages/thinc/config.py?line=796'>797</a>\u001b[0m )\n\u001b[0;32m    <a href='file:///c%3A/Users/APinto/anaconda3/envs/projeto_apspacy/lib/site-packages/thinc/config.py?line=797'>798</a>\u001b[0m filled \u001b[39m=\u001b[39m Config(filled, section_order\u001b[39m=\u001b[39msection_order)\n\u001b[0;32m    <a href='file:///c%3A/Users/APinto/anaconda3/envs/projeto_apspacy/lib/site-packages/thinc/config.py?line=798'>799</a>\u001b[0m \u001b[39m# Check that overrides didn't include invalid properties not in config\u001b[39;00m\n",
      "File \u001b[1;32m~\\anaconda3\\envs\\projeto_apspacy\\lib\\site-packages\\thinc\\config.py:867\u001b[0m, in \u001b[0;36mregistry._fill\u001b[1;34m(cls, config, schema, validate, resolve, parent, overrides)\u001b[0m\n\u001b[0;32m    <a href='file:///c%3A/Users/APinto/anaconda3/envs/projeto_apspacy/lib/site-packages/thinc/config.py?line=863'>864</a>\u001b[0m     getter \u001b[39m=\u001b[39m \u001b[39mcls\u001b[39m\u001b[39m.\u001b[39mget(reg_name, func_name)\n\u001b[0;32m    <a href='file:///c%3A/Users/APinto/anaconda3/envs/projeto_apspacy/lib/site-packages/thinc/config.py?line=864'>865</a>\u001b[0m     \u001b[39m# We don't want to try/except this and raise our own error\u001b[39;00m\n\u001b[0;32m    <a href='file:///c%3A/Users/APinto/anaconda3/envs/projeto_apspacy/lib/site-packages/thinc/config.py?line=865'>866</a>\u001b[0m     \u001b[39m# here, because we want the traceback if the function fails.\u001b[39;00m\n\u001b[1;32m--> <a href='file:///c%3A/Users/APinto/anaconda3/envs/projeto_apspacy/lib/site-packages/thinc/config.py?line=866'>867</a>\u001b[0m     getter_result \u001b[39m=\u001b[39m getter(\u001b[39m*\u001b[39;49margs, \u001b[39m*\u001b[39;49m\u001b[39m*\u001b[39;49mkwargs)\n\u001b[0;32m    <a href='file:///c%3A/Users/APinto/anaconda3/envs/projeto_apspacy/lib/site-packages/thinc/config.py?line=867'>868</a>\u001b[0m \u001b[39melse\u001b[39;00m:\n\u001b[0;32m    <a href='file:///c%3A/Users/APinto/anaconda3/envs/projeto_apspacy/lib/site-packages/thinc/config.py?line=868'>869</a>\u001b[0m     \u001b[39m# We're not resolving and calling the function, so replace\u001b[39;00m\n\u001b[0;32m    <a href='file:///c%3A/Users/APinto/anaconda3/envs/projeto_apspacy/lib/site-packages/thinc/config.py?line=869'>870</a>\u001b[0m     \u001b[39m# the getter_result with a Promise class\u001b[39;00m\n\u001b[0;32m    <a href='file:///c%3A/Users/APinto/anaconda3/envs/projeto_apspacy/lib/site-packages/thinc/config.py?line=870'>871</a>\u001b[0m     getter_result \u001b[39m=\u001b[39m Promise(\n\u001b[0;32m    <a href='file:///c%3A/Users/APinto/anaconda3/envs/projeto_apspacy/lib/site-packages/thinc/config.py?line=871'>872</a>\u001b[0m         registry\u001b[39m=\u001b[39mreg_name, name\u001b[39m=\u001b[39mfunc_name, args\u001b[39m=\u001b[39margs, kwargs\u001b[39m=\u001b[39mkwargs\n\u001b[0;32m    <a href='file:///c%3A/Users/APinto/anaconda3/envs/projeto_apspacy/lib/site-packages/thinc/config.py?line=872'>873</a>\u001b[0m     )\n",
      "File \u001b[1;32m~\\anaconda3\\envs\\projeto_apspacy\\lib\\site-packages\\spacy\\language.py:108\u001b[0m, in \u001b[0;36mload_lookups_data\u001b[1;34m(lang, tables)\u001b[0m\n\u001b[0;32m    <a href='file:///c%3A/Users/APinto/anaconda3/envs/projeto_apspacy/lib/site-packages/spacy/language.py?line=104'>105</a>\u001b[0m \u001b[39m@registry\u001b[39m\u001b[39m.\u001b[39mmisc(\u001b[39m\"\u001b[39m\u001b[39mspacy.LookupsDataLoader.v1\u001b[39m\u001b[39m\"\u001b[39m)\n\u001b[0;32m    <a href='file:///c%3A/Users/APinto/anaconda3/envs/projeto_apspacy/lib/site-packages/spacy/language.py?line=105'>106</a>\u001b[0m \u001b[39mdef\u001b[39;00m \u001b[39mload_lookups_data\u001b[39m(lang, tables):\n\u001b[0;32m    <a href='file:///c%3A/Users/APinto/anaconda3/envs/projeto_apspacy/lib/site-packages/spacy/language.py?line=106'>107</a>\u001b[0m     util\u001b[39m.\u001b[39mlogger\u001b[39m.\u001b[39mdebug(\u001b[39mf\u001b[39m\u001b[39m\"\u001b[39m\u001b[39mLoading lookups from spacy-lookups-data: \u001b[39m\u001b[39m{\u001b[39;00mtables\u001b[39m}\u001b[39;00m\u001b[39m\"\u001b[39m)\n\u001b[1;32m--> <a href='file:///c%3A/Users/APinto/anaconda3/envs/projeto_apspacy/lib/site-packages/spacy/language.py?line=107'>108</a>\u001b[0m     lookups \u001b[39m=\u001b[39m load_lookups(lang\u001b[39m=\u001b[39;49mlang, tables\u001b[39m=\u001b[39;49mtables)\n\u001b[0;32m    <a href='file:///c%3A/Users/APinto/anaconda3/envs/projeto_apspacy/lib/site-packages/spacy/language.py?line=108'>109</a>\u001b[0m     \u001b[39mreturn\u001b[39;00m lookups\n",
      "File \u001b[1;32m~\\anaconda3\\envs\\projeto_apspacy\\lib\\site-packages\\spacy\\lookups.py:30\u001b[0m, in \u001b[0;36mload_lookups\u001b[1;34m(lang, tables, strict)\u001b[0m\n\u001b[0;32m     <a href='file:///c%3A/Users/APinto/anaconda3/envs/projeto_apspacy/lib/site-packages/spacy/lookups.py?line=27'>28</a>\u001b[0m \u001b[39mif\u001b[39;00m lang \u001b[39mnot\u001b[39;00m \u001b[39min\u001b[39;00m registry\u001b[39m.\u001b[39mlookups:\n\u001b[0;32m     <a href='file:///c%3A/Users/APinto/anaconda3/envs/projeto_apspacy/lib/site-packages/spacy/lookups.py?line=28'>29</a>\u001b[0m     \u001b[39mif\u001b[39;00m strict \u001b[39mand\u001b[39;00m \u001b[39mlen\u001b[39m(tables) \u001b[39m>\u001b[39m \u001b[39m0\u001b[39m:\n\u001b[1;32m---> <a href='file:///c%3A/Users/APinto/anaconda3/envs/projeto_apspacy/lib/site-packages/spacy/lookups.py?line=29'>30</a>\u001b[0m         \u001b[39mraise\u001b[39;00m \u001b[39mValueError\u001b[39;00m(Errors\u001b[39m.\u001b[39mE955\u001b[39m.\u001b[39mformat(table\u001b[39m=\u001b[39m\u001b[39m\"\u001b[39m\u001b[39m, \u001b[39m\u001b[39m\"\u001b[39m\u001b[39m.\u001b[39mjoin(tables), lang\u001b[39m=\u001b[39mlang))\n\u001b[0;32m     <a href='file:///c%3A/Users/APinto/anaconda3/envs/projeto_apspacy/lib/site-packages/spacy/lookups.py?line=30'>31</a>\u001b[0m     \u001b[39mreturn\u001b[39;00m lookups\n\u001b[0;32m     <a href='file:///c%3A/Users/APinto/anaconda3/envs/projeto_apspacy/lib/site-packages/spacy/lookups.py?line=31'>32</a>\u001b[0m data \u001b[39m=\u001b[39m registry\u001b[39m.\u001b[39mlookups\u001b[39m.\u001b[39mget(lang)\n",
      "\u001b[1;31mValueError\u001b[0m: [E955] Can't find table(s) lexeme_norm for language 'pt' in spacy-lookups-data. Make sure you have the package installed or provide your own lookup tables if no default lookups are available for your language."
     ]
    }
   ],
   "source": [
    "from spacy.util import minibatch, compounding\n",
    "\n",
    "# Disabling other components\n",
    "other_pipes = [pipe for pipe in nlp.pipe_names if pipe != 'textcat']\n",
    "with nlp.disable_pipes(*other_pipes):  # only train textcat\n",
    "    optimizer = nlp.initialize()\n",
    "\n",
    "    print(\"Training the model...\")\n",
    "    print('{:^5}\\t{:^5}\\t{:^5}\\t{:^5}'.format('LOSS', 'P', 'R', 'F'))\n",
    "\n",
    "    # Performing training\n",
    "    for i in range(n_iter):\n",
    "        losses = {}\n",
    "        batches = minibatch(train_data, size=compounding(4., 32., 1.001))\n",
    "        for batch in batches:\n",
    "            texts, annotations = zip(*batch)\n",
    "            nlp.update(texts, annotations, sgd=optimizer, drop=0.2,\n",
    "                       losses=losses)\n",
    "\n",
    "      # Calling the evaluate() function and printing the scores\n",
    "        with textcat.model.use_params(optimizer.averages):\n",
    "            scores = evaluate(nlp.tokenizer, textcat, dev_texts, dev_cats)\n",
    "        print('{0:.3f}\\t{1:.3f}\\t{2:.3f}\\t{3:.3f}'  \n",
    "              .format(losses['textcat'], scores['textcat_p'],\n",
    "                      scores['textcat_r'], scores['textcat_f']))"
   ]
  },
  {
   "cell_type": "markdown",
   "metadata": {},
   "source": [
    "### Testing the model with new examples"
   ]
  },
  {
   "cell_type": "code",
   "execution_count": 36,
   "metadata": {},
   "outputs": [
    {
     "ename": "ValueError",
     "evalue": "Cannot get dimension 'nO' for model 'sparse_linear': value unset",
     "output_type": "error",
     "traceback": [
      "\u001b[1;31m---------------------------------------------------------------------------\u001b[0m",
      "\u001b[1;31mValueError\u001b[0m                                Traceback (most recent call last)",
      "\u001b[1;32mc:\\Test folder\\KnowingSpacy\\self learning\\pt model.ipynb Cell 44'\u001b[0m in \u001b[0;36m<cell line: 3>\u001b[1;34m()\u001b[0m\n\u001b[0;32m      <a href='vscode-notebook-cell:/c%3A/Test%20folder/KnowingSpacy/self%20learning/pt%20model.ipynb#ch0000066?line=0'>1</a>\u001b[0m \u001b[39m# Testing the model\u001b[39;00m\n\u001b[0;32m      <a href='vscode-notebook-cell:/c%3A/Test%20folder/KnowingSpacy/self%20learning/pt%20model.ipynb#ch0000066?line=1'>2</a>\u001b[0m test_text\u001b[39m=\u001b[39m\u001b[39m\"\u001b[39m\u001b[39mI hate the new series of Netflix\u001b[39m\u001b[39m\"\u001b[39m\n\u001b[1;32m----> <a href='vscode-notebook-cell:/c%3A/Test%20folder/KnowingSpacy/self%20learning/pt%20model.ipynb#ch0000066?line=2'>3</a>\u001b[0m doc\u001b[39m=\u001b[39mnlp(test_text)\n\u001b[0;32m      <a href='vscode-notebook-cell:/c%3A/Test%20folder/KnowingSpacy/self%20learning/pt%20model.ipynb#ch0000066?line=3'>4</a>\u001b[0m doc\u001b[39m.\u001b[39mcats\n",
      "File \u001b[1;32m~\\anaconda3\\envs\\projeto_apspacy\\lib\\site-packages\\spacy\\language.py:1022\u001b[0m, in \u001b[0;36mLanguage.__call__\u001b[1;34m(self, text, disable, component_cfg)\u001b[0m\n\u001b[0;32m   <a href='file:///c%3A/Users/APinto/anaconda3/envs/projeto_apspacy/lib/site-packages/spacy/language.py?line=1019'>1020</a>\u001b[0m     \u001b[39mraise\u001b[39;00m \u001b[39mValueError\u001b[39;00m(Errors\u001b[39m.\u001b[39mE109\u001b[39m.\u001b[39mformat(name\u001b[39m=\u001b[39mname)) \u001b[39mfrom\u001b[39;00m \u001b[39me\u001b[39;00m\n\u001b[0;32m   <a href='file:///c%3A/Users/APinto/anaconda3/envs/projeto_apspacy/lib/site-packages/spacy/language.py?line=1020'>1021</a>\u001b[0m \u001b[39mexcept\u001b[39;00m \u001b[39mException\u001b[39;00m \u001b[39mas\u001b[39;00m e:\n\u001b[1;32m-> <a href='file:///c%3A/Users/APinto/anaconda3/envs/projeto_apspacy/lib/site-packages/spacy/language.py?line=1021'>1022</a>\u001b[0m     error_handler(name, proc, [doc], e)\n\u001b[0;32m   <a href='file:///c%3A/Users/APinto/anaconda3/envs/projeto_apspacy/lib/site-packages/spacy/language.py?line=1022'>1023</a>\u001b[0m \u001b[39mif\u001b[39;00m doc \u001b[39mis\u001b[39;00m \u001b[39mNone\u001b[39;00m:\n\u001b[0;32m   <a href='file:///c%3A/Users/APinto/anaconda3/envs/projeto_apspacy/lib/site-packages/spacy/language.py?line=1023'>1024</a>\u001b[0m     \u001b[39mraise\u001b[39;00m \u001b[39mValueError\u001b[39;00m(Errors\u001b[39m.\u001b[39mE005\u001b[39m.\u001b[39mformat(name\u001b[39m=\u001b[39mname))\n",
      "File \u001b[1;32m~\\anaconda3\\envs\\projeto_apspacy\\lib\\site-packages\\spacy\\util.py:1617\u001b[0m, in \u001b[0;36mraise_error\u001b[1;34m(proc_name, proc, docs, e)\u001b[0m\n\u001b[0;32m   <a href='file:///c%3A/Users/APinto/anaconda3/envs/projeto_apspacy/lib/site-packages/spacy/util.py?line=1615'>1616</a>\u001b[0m \u001b[39mdef\u001b[39;00m \u001b[39mraise_error\u001b[39m(proc_name, proc, docs, e):\n\u001b[1;32m-> <a href='file:///c%3A/Users/APinto/anaconda3/envs/projeto_apspacy/lib/site-packages/spacy/util.py?line=1616'>1617</a>\u001b[0m     \u001b[39mraise\u001b[39;00m e\n",
      "File \u001b[1;32m~\\anaconda3\\envs\\projeto_apspacy\\lib\\site-packages\\spacy\\language.py:1017\u001b[0m, in \u001b[0;36mLanguage.__call__\u001b[1;34m(self, text, disable, component_cfg)\u001b[0m\n\u001b[0;32m   <a href='file:///c%3A/Users/APinto/anaconda3/envs/projeto_apspacy/lib/site-packages/spacy/language.py?line=1014'>1015</a>\u001b[0m     error_handler \u001b[39m=\u001b[39m proc\u001b[39m.\u001b[39mget_error_handler()\n\u001b[0;32m   <a href='file:///c%3A/Users/APinto/anaconda3/envs/projeto_apspacy/lib/site-packages/spacy/language.py?line=1015'>1016</a>\u001b[0m \u001b[39mtry\u001b[39;00m:\n\u001b[1;32m-> <a href='file:///c%3A/Users/APinto/anaconda3/envs/projeto_apspacy/lib/site-packages/spacy/language.py?line=1016'>1017</a>\u001b[0m     doc \u001b[39m=\u001b[39m proc(doc, \u001b[39m*\u001b[39;49m\u001b[39m*\u001b[39;49mcomponent_cfg\u001b[39m.\u001b[39;49mget(name, {}))  \u001b[39m# type: ignore[call-arg]\u001b[39;00m\n\u001b[0;32m   <a href='file:///c%3A/Users/APinto/anaconda3/envs/projeto_apspacy/lib/site-packages/spacy/language.py?line=1017'>1018</a>\u001b[0m \u001b[39mexcept\u001b[39;00m \u001b[39mKeyError\u001b[39;00m \u001b[39mas\u001b[39;00m e:\n\u001b[0;32m   <a href='file:///c%3A/Users/APinto/anaconda3/envs/projeto_apspacy/lib/site-packages/spacy/language.py?line=1018'>1019</a>\u001b[0m     \u001b[39m# This typically happens if a component is not initialized\u001b[39;00m\n\u001b[0;32m   <a href='file:///c%3A/Users/APinto/anaconda3/envs/projeto_apspacy/lib/site-packages/spacy/language.py?line=1019'>1020</a>\u001b[0m     \u001b[39mraise\u001b[39;00m \u001b[39mValueError\u001b[39;00m(Errors\u001b[39m.\u001b[39mE109\u001b[39m.\u001b[39mformat(name\u001b[39m=\u001b[39mname)) \u001b[39mfrom\u001b[39;00m \u001b[39me\u001b[39;00m\n",
      "File \u001b[1;32m~\\anaconda3\\envs\\projeto_apspacy\\lib\\site-packages\\spacy\\pipeline\\trainable_pipe.pyx:56\u001b[0m, in \u001b[0;36mspacy.pipeline.trainable_pipe.TrainablePipe.__call__\u001b[1;34m()\u001b[0m\n",
      "File \u001b[1;32m~\\anaconda3\\envs\\projeto_apspacy\\lib\\site-packages\\spacy\\util.py:1617\u001b[0m, in \u001b[0;36mraise_error\u001b[1;34m(proc_name, proc, docs, e)\u001b[0m\n\u001b[0;32m   <a href='file:///c%3A/Users/APinto/anaconda3/envs/projeto_apspacy/lib/site-packages/spacy/util.py?line=1615'>1616</a>\u001b[0m \u001b[39mdef\u001b[39;00m \u001b[39mraise_error\u001b[39m(proc_name, proc, docs, e):\n\u001b[1;32m-> <a href='file:///c%3A/Users/APinto/anaconda3/envs/projeto_apspacy/lib/site-packages/spacy/util.py?line=1616'>1617</a>\u001b[0m     \u001b[39mraise\u001b[39;00m e\n",
      "File \u001b[1;32m~\\anaconda3\\envs\\projeto_apspacy\\lib\\site-packages\\spacy\\pipeline\\trainable_pipe.pyx:52\u001b[0m, in \u001b[0;36mspacy.pipeline.trainable_pipe.TrainablePipe.__call__\u001b[1;34m()\u001b[0m\n",
      "File \u001b[1;32m~\\anaconda3\\envs\\projeto_apspacy\\lib\\site-packages\\spacy\\pipeline\\textcat.py:191\u001b[0m, in \u001b[0;36mTextCategorizer.predict\u001b[1;34m(self, docs)\u001b[0m\n\u001b[0;32m    <a href='file:///c%3A/Users/APinto/anaconda3/envs/projeto_apspacy/lib/site-packages/spacy/pipeline/textcat.py?line=188'>189</a>\u001b[0m     scores \u001b[39m=\u001b[39m xp\u001b[39m.\u001b[39mzeros((\u001b[39mlen\u001b[39m(\u001b[39mlist\u001b[39m(docs)), \u001b[39mlen\u001b[39m(\u001b[39mself\u001b[39m\u001b[39m.\u001b[39mlabels)))\n\u001b[0;32m    <a href='file:///c%3A/Users/APinto/anaconda3/envs/projeto_apspacy/lib/site-packages/spacy/pipeline/textcat.py?line=189'>190</a>\u001b[0m     \u001b[39mreturn\u001b[39;00m scores\n\u001b[1;32m--> <a href='file:///c%3A/Users/APinto/anaconda3/envs/projeto_apspacy/lib/site-packages/spacy/pipeline/textcat.py?line=190'>191</a>\u001b[0m scores \u001b[39m=\u001b[39m \u001b[39mself\u001b[39;49m\u001b[39m.\u001b[39;49mmodel\u001b[39m.\u001b[39;49mpredict(docs)\n\u001b[0;32m    <a href='file:///c%3A/Users/APinto/anaconda3/envs/projeto_apspacy/lib/site-packages/spacy/pipeline/textcat.py?line=191'>192</a>\u001b[0m scores \u001b[39m=\u001b[39m \u001b[39mself\u001b[39m\u001b[39m.\u001b[39mmodel\u001b[39m.\u001b[39mops\u001b[39m.\u001b[39masarray(scores)\n\u001b[0;32m    <a href='file:///c%3A/Users/APinto/anaconda3/envs/projeto_apspacy/lib/site-packages/spacy/pipeline/textcat.py?line=192'>193</a>\u001b[0m \u001b[39mreturn\u001b[39;00m scores\n",
      "File \u001b[1;32m~\\anaconda3\\envs\\projeto_apspacy\\lib\\site-packages\\thinc\\model.py:315\u001b[0m, in \u001b[0;36mModel.predict\u001b[1;34m(self, X)\u001b[0m\n\u001b[0;32m    <a href='file:///c%3A/Users/APinto/anaconda3/envs/projeto_apspacy/lib/site-packages/thinc/model.py?line=310'>311</a>\u001b[0m \u001b[39mdef\u001b[39;00m \u001b[39mpredict\u001b[39m(\u001b[39mself\u001b[39m, X: InT) \u001b[39m-\u001b[39m\u001b[39m>\u001b[39m OutT:\n\u001b[0;32m    <a href='file:///c%3A/Users/APinto/anaconda3/envs/projeto_apspacy/lib/site-packages/thinc/model.py?line=311'>312</a>\u001b[0m     \u001b[39m\"\"\"Call the model's `forward` function with `is_train=False`, and return\u001b[39;00m\n\u001b[0;32m    <a href='file:///c%3A/Users/APinto/anaconda3/envs/projeto_apspacy/lib/site-packages/thinc/model.py?line=312'>313</a>\u001b[0m \u001b[39m    only the output, instead of the `(output, callback)` tuple.\u001b[39;00m\n\u001b[0;32m    <a href='file:///c%3A/Users/APinto/anaconda3/envs/projeto_apspacy/lib/site-packages/thinc/model.py?line=313'>314</a>\u001b[0m \u001b[39m    \"\"\"\u001b[39;00m\n\u001b[1;32m--> <a href='file:///c%3A/Users/APinto/anaconda3/envs/projeto_apspacy/lib/site-packages/thinc/model.py?line=314'>315</a>\u001b[0m     \u001b[39mreturn\u001b[39;00m \u001b[39mself\u001b[39;49m\u001b[39m.\u001b[39;49m_func(\u001b[39mself\u001b[39;49m, X, is_train\u001b[39m=\u001b[39;49m\u001b[39mFalse\u001b[39;49;00m)[\u001b[39m0\u001b[39m]\n",
      "File \u001b[1;32m~\\anaconda3\\envs\\projeto_apspacy\\lib\\site-packages\\thinc\\layers\\chain.py:54\u001b[0m, in \u001b[0;36mforward\u001b[1;34m(model, X, is_train)\u001b[0m\n\u001b[0;32m     <a href='file:///c%3A/Users/APinto/anaconda3/envs/projeto_apspacy/lib/site-packages/thinc/layers/chain.py?line=51'>52</a>\u001b[0m callbacks \u001b[39m=\u001b[39m []\n\u001b[0;32m     <a href='file:///c%3A/Users/APinto/anaconda3/envs/projeto_apspacy/lib/site-packages/thinc/layers/chain.py?line=52'>53</a>\u001b[0m \u001b[39mfor\u001b[39;00m layer \u001b[39min\u001b[39;00m model\u001b[39m.\u001b[39mlayers:\n\u001b[1;32m---> <a href='file:///c%3A/Users/APinto/anaconda3/envs/projeto_apspacy/lib/site-packages/thinc/layers/chain.py?line=53'>54</a>\u001b[0m     Y, inc_layer_grad \u001b[39m=\u001b[39m layer(X, is_train\u001b[39m=\u001b[39;49mis_train)\n\u001b[0;32m     <a href='file:///c%3A/Users/APinto/anaconda3/envs/projeto_apspacy/lib/site-packages/thinc/layers/chain.py?line=54'>55</a>\u001b[0m     callbacks\u001b[39m.\u001b[39mappend(inc_layer_grad)\n\u001b[0;32m     <a href='file:///c%3A/Users/APinto/anaconda3/envs/projeto_apspacy/lib/site-packages/thinc/layers/chain.py?line=55'>56</a>\u001b[0m     X \u001b[39m=\u001b[39m Y\n",
      "File \u001b[1;32m~\\anaconda3\\envs\\projeto_apspacy\\lib\\site-packages\\thinc\\model.py:291\u001b[0m, in \u001b[0;36mModel.__call__\u001b[1;34m(self, X, is_train)\u001b[0m\n\u001b[0;32m    <a href='file:///c%3A/Users/APinto/anaconda3/envs/projeto_apspacy/lib/site-packages/thinc/model.py?line=287'>288</a>\u001b[0m \u001b[39mdef\u001b[39;00m \u001b[39m__call__\u001b[39m(\u001b[39mself\u001b[39m, X: InT, is_train: \u001b[39mbool\u001b[39m) \u001b[39m-\u001b[39m\u001b[39m>\u001b[39m Tuple[OutT, Callable]:\n\u001b[0;32m    <a href='file:///c%3A/Users/APinto/anaconda3/envs/projeto_apspacy/lib/site-packages/thinc/model.py?line=288'>289</a>\u001b[0m     \u001b[39m\"\"\"Call the model's `forward` function, returning the output and a\u001b[39;00m\n\u001b[0;32m    <a href='file:///c%3A/Users/APinto/anaconda3/envs/projeto_apspacy/lib/site-packages/thinc/model.py?line=289'>290</a>\u001b[0m \u001b[39m    callback to compute the gradients via backpropagation.\"\"\"\u001b[39;00m\n\u001b[1;32m--> <a href='file:///c%3A/Users/APinto/anaconda3/envs/projeto_apspacy/lib/site-packages/thinc/model.py?line=290'>291</a>\u001b[0m     \u001b[39mreturn\u001b[39;00m \u001b[39mself\u001b[39;49m\u001b[39m.\u001b[39;49m_func(\u001b[39mself\u001b[39;49m, X, is_train\u001b[39m=\u001b[39;49mis_train)\n",
      "File \u001b[1;32m~\\anaconda3\\envs\\projeto_apspacy\\lib\\site-packages\\thinc\\layers\\concatenate.py:44\u001b[0m, in \u001b[0;36mforward\u001b[1;34m(model, X, is_train)\u001b[0m\n\u001b[0;32m     <a href='file:///c%3A/Users/APinto/anaconda3/envs/projeto_apspacy/lib/site-packages/thinc/layers/concatenate.py?line=42'>43</a>\u001b[0m \u001b[39mdef\u001b[39;00m \u001b[39mforward\u001b[39m(model: Model[InT, OutT], X: InT, is_train: \u001b[39mbool\u001b[39m) \u001b[39m-\u001b[39m\u001b[39m>\u001b[39m Tuple[OutT, Callable]:\n\u001b[1;32m---> <a href='file:///c%3A/Users/APinto/anaconda3/envs/projeto_apspacy/lib/site-packages/thinc/layers/concatenate.py?line=43'>44</a>\u001b[0m     Ys, callbacks \u001b[39m=\u001b[39m \u001b[39mzip\u001b[39m(\u001b[39m*\u001b[39m[layer(X, is_train\u001b[39m=\u001b[39mis_train) \u001b[39mfor\u001b[39;00m layer \u001b[39min\u001b[39;00m model\u001b[39m.\u001b[39mlayers])\n\u001b[0;32m     <a href='file:///c%3A/Users/APinto/anaconda3/envs/projeto_apspacy/lib/site-packages/thinc/layers/concatenate.py?line=44'>45</a>\u001b[0m     \u001b[39mif\u001b[39;00m \u001b[39misinstance\u001b[39m(Ys[\u001b[39m0\u001b[39m], \u001b[39mlist\u001b[39m):\n\u001b[0;32m     <a href='file:///c%3A/Users/APinto/anaconda3/envs/projeto_apspacy/lib/site-packages/thinc/layers/concatenate.py?line=45'>46</a>\u001b[0m         \u001b[39mreturn\u001b[39;00m _list_forward(model, X, Ys, callbacks, is_train)  \u001b[39m# type: ignore\u001b[39;00m\n",
      "File \u001b[1;32m~\\anaconda3\\envs\\projeto_apspacy\\lib\\site-packages\\thinc\\layers\\concatenate.py:44\u001b[0m, in \u001b[0;36m<listcomp>\u001b[1;34m(.0)\u001b[0m\n\u001b[0;32m     <a href='file:///c%3A/Users/APinto/anaconda3/envs/projeto_apspacy/lib/site-packages/thinc/layers/concatenate.py?line=42'>43</a>\u001b[0m \u001b[39mdef\u001b[39;00m \u001b[39mforward\u001b[39m(model: Model[InT, OutT], X: InT, is_train: \u001b[39mbool\u001b[39m) \u001b[39m-\u001b[39m\u001b[39m>\u001b[39m Tuple[OutT, Callable]:\n\u001b[1;32m---> <a href='file:///c%3A/Users/APinto/anaconda3/envs/projeto_apspacy/lib/site-packages/thinc/layers/concatenate.py?line=43'>44</a>\u001b[0m     Ys, callbacks \u001b[39m=\u001b[39m \u001b[39mzip\u001b[39m(\u001b[39m*\u001b[39m[layer(X, is_train\u001b[39m=\u001b[39;49mis_train) \u001b[39mfor\u001b[39;00m layer \u001b[39min\u001b[39;00m model\u001b[39m.\u001b[39mlayers])\n\u001b[0;32m     <a href='file:///c%3A/Users/APinto/anaconda3/envs/projeto_apspacy/lib/site-packages/thinc/layers/concatenate.py?line=44'>45</a>\u001b[0m     \u001b[39mif\u001b[39;00m \u001b[39misinstance\u001b[39m(Ys[\u001b[39m0\u001b[39m], \u001b[39mlist\u001b[39m):\n\u001b[0;32m     <a href='file:///c%3A/Users/APinto/anaconda3/envs/projeto_apspacy/lib/site-packages/thinc/layers/concatenate.py?line=45'>46</a>\u001b[0m         \u001b[39mreturn\u001b[39;00m _list_forward(model, X, Ys, callbacks, is_train)  \u001b[39m# type: ignore\u001b[39;00m\n",
      "File \u001b[1;32m~\\anaconda3\\envs\\projeto_apspacy\\lib\\site-packages\\thinc\\model.py:291\u001b[0m, in \u001b[0;36mModel.__call__\u001b[1;34m(self, X, is_train)\u001b[0m\n\u001b[0;32m    <a href='file:///c%3A/Users/APinto/anaconda3/envs/projeto_apspacy/lib/site-packages/thinc/model.py?line=287'>288</a>\u001b[0m \u001b[39mdef\u001b[39;00m \u001b[39m__call__\u001b[39m(\u001b[39mself\u001b[39m, X: InT, is_train: \u001b[39mbool\u001b[39m) \u001b[39m-\u001b[39m\u001b[39m>\u001b[39m Tuple[OutT, Callable]:\n\u001b[0;32m    <a href='file:///c%3A/Users/APinto/anaconda3/envs/projeto_apspacy/lib/site-packages/thinc/model.py?line=288'>289</a>\u001b[0m     \u001b[39m\"\"\"Call the model's `forward` function, returning the output and a\u001b[39;00m\n\u001b[0;32m    <a href='file:///c%3A/Users/APinto/anaconda3/envs/projeto_apspacy/lib/site-packages/thinc/model.py?line=289'>290</a>\u001b[0m \u001b[39m    callback to compute the gradients via backpropagation.\"\"\"\u001b[39;00m\n\u001b[1;32m--> <a href='file:///c%3A/Users/APinto/anaconda3/envs/projeto_apspacy/lib/site-packages/thinc/model.py?line=290'>291</a>\u001b[0m     \u001b[39mreturn\u001b[39;00m \u001b[39mself\u001b[39;49m\u001b[39m.\u001b[39;49m_func(\u001b[39mself\u001b[39;49m, X, is_train\u001b[39m=\u001b[39;49mis_train)\n",
      "File \u001b[1;32m~\\anaconda3\\envs\\projeto_apspacy\\lib\\site-packages\\thinc\\layers\\chain.py:54\u001b[0m, in \u001b[0;36mforward\u001b[1;34m(model, X, is_train)\u001b[0m\n\u001b[0;32m     <a href='file:///c%3A/Users/APinto/anaconda3/envs/projeto_apspacy/lib/site-packages/thinc/layers/chain.py?line=51'>52</a>\u001b[0m callbacks \u001b[39m=\u001b[39m []\n\u001b[0;32m     <a href='file:///c%3A/Users/APinto/anaconda3/envs/projeto_apspacy/lib/site-packages/thinc/layers/chain.py?line=52'>53</a>\u001b[0m \u001b[39mfor\u001b[39;00m layer \u001b[39min\u001b[39;00m model\u001b[39m.\u001b[39mlayers:\n\u001b[1;32m---> <a href='file:///c%3A/Users/APinto/anaconda3/envs/projeto_apspacy/lib/site-packages/thinc/layers/chain.py?line=53'>54</a>\u001b[0m     Y, inc_layer_grad \u001b[39m=\u001b[39m layer(X, is_train\u001b[39m=\u001b[39;49mis_train)\n\u001b[0;32m     <a href='file:///c%3A/Users/APinto/anaconda3/envs/projeto_apspacy/lib/site-packages/thinc/layers/chain.py?line=54'>55</a>\u001b[0m     callbacks\u001b[39m.\u001b[39mappend(inc_layer_grad)\n\u001b[0;32m     <a href='file:///c%3A/Users/APinto/anaconda3/envs/projeto_apspacy/lib/site-packages/thinc/layers/chain.py?line=55'>56</a>\u001b[0m     X \u001b[39m=\u001b[39m Y\n",
      "File \u001b[1;32m~\\anaconda3\\envs\\projeto_apspacy\\lib\\site-packages\\thinc\\model.py:291\u001b[0m, in \u001b[0;36mModel.__call__\u001b[1;34m(self, X, is_train)\u001b[0m\n\u001b[0;32m    <a href='file:///c%3A/Users/APinto/anaconda3/envs/projeto_apspacy/lib/site-packages/thinc/model.py?line=287'>288</a>\u001b[0m \u001b[39mdef\u001b[39;00m \u001b[39m__call__\u001b[39m(\u001b[39mself\u001b[39m, X: InT, is_train: \u001b[39mbool\u001b[39m) \u001b[39m-\u001b[39m\u001b[39m>\u001b[39m Tuple[OutT, Callable]:\n\u001b[0;32m    <a href='file:///c%3A/Users/APinto/anaconda3/envs/projeto_apspacy/lib/site-packages/thinc/model.py?line=288'>289</a>\u001b[0m     \u001b[39m\"\"\"Call the model's `forward` function, returning the output and a\u001b[39;00m\n\u001b[0;32m    <a href='file:///c%3A/Users/APinto/anaconda3/envs/projeto_apspacy/lib/site-packages/thinc/model.py?line=289'>290</a>\u001b[0m \u001b[39m    callback to compute the gradients via backpropagation.\"\"\"\u001b[39;00m\n\u001b[1;32m--> <a href='file:///c%3A/Users/APinto/anaconda3/envs/projeto_apspacy/lib/site-packages/thinc/model.py?line=290'>291</a>\u001b[0m     \u001b[39mreturn\u001b[39;00m \u001b[39mself\u001b[39;49m\u001b[39m.\u001b[39;49m_func(\u001b[39mself\u001b[39;49m, X, is_train\u001b[39m=\u001b[39;49mis_train)\n",
      "File \u001b[1;32m~\\anaconda3\\envs\\projeto_apspacy\\lib\\site-packages\\thinc\\layers\\with_cpu.py:24\u001b[0m, in \u001b[0;36mforward\u001b[1;34m(model, X, is_train)\u001b[0m\n\u001b[0;32m     <a href='file:///c%3A/Users/APinto/anaconda3/envs/projeto_apspacy/lib/site-packages/thinc/layers/with_cpu.py?line=22'>23</a>\u001b[0m \u001b[39mdef\u001b[39;00m \u001b[39mforward\u001b[39m(model: Model, X: Any, is_train: \u001b[39mbool\u001b[39m) \u001b[39m-\u001b[39m\u001b[39m>\u001b[39m Tuple[Any, Callable]:\n\u001b[1;32m---> <a href='file:///c%3A/Users/APinto/anaconda3/envs/projeto_apspacy/lib/site-packages/thinc/layers/with_cpu.py?line=23'>24</a>\u001b[0m     cpu_outputs, backprop \u001b[39m=\u001b[39m model\u001b[39m.\u001b[39;49mlayers[\u001b[39m0\u001b[39;49m]\u001b[39m.\u001b[39;49mbegin_update(_to_cpu(X))\n\u001b[0;32m     <a href='file:///c%3A/Users/APinto/anaconda3/envs/projeto_apspacy/lib/site-packages/thinc/layers/with_cpu.py?line=24'>25</a>\u001b[0m     gpu_outputs \u001b[39m=\u001b[39m _to_device(model\u001b[39m.\u001b[39mops, cpu_outputs)\n\u001b[0;32m     <a href='file:///c%3A/Users/APinto/anaconda3/envs/projeto_apspacy/lib/site-packages/thinc/layers/with_cpu.py?line=26'>27</a>\u001b[0m     \u001b[39mdef\u001b[39;00m \u001b[39mwith_cpu_backprop\u001b[39m(d_outputs):\n",
      "File \u001b[1;32m~\\anaconda3\\envs\\projeto_apspacy\\lib\\site-packages\\thinc\\model.py:309\u001b[0m, in \u001b[0;36mModel.begin_update\u001b[1;34m(self, X)\u001b[0m\n\u001b[0;32m    <a href='file:///c%3A/Users/APinto/anaconda3/envs/projeto_apspacy/lib/site-packages/thinc/model.py?line=301'>302</a>\u001b[0m \u001b[39mdef\u001b[39;00m \u001b[39mbegin_update\u001b[39m(\u001b[39mself\u001b[39m, X: InT) \u001b[39m-\u001b[39m\u001b[39m>\u001b[39m Tuple[OutT, Callable[[InT], OutT]]:\n\u001b[0;32m    <a href='file:///c%3A/Users/APinto/anaconda3/envs/projeto_apspacy/lib/site-packages/thinc/model.py?line=302'>303</a>\u001b[0m     \u001b[39m\"\"\"Run the model over a batch of data, returning the output and a\u001b[39;00m\n\u001b[0;32m    <a href='file:///c%3A/Users/APinto/anaconda3/envs/projeto_apspacy/lib/site-packages/thinc/model.py?line=303'>304</a>\u001b[0m \u001b[39m    callback to complete the backward pass. A tuple (Y, finish_update),\u001b[39;00m\n\u001b[0;32m    <a href='file:///c%3A/Users/APinto/anaconda3/envs/projeto_apspacy/lib/site-packages/thinc/model.py?line=304'>305</a>\u001b[0m \u001b[39m    where Y is a batch of output data, and finish_update is a callback that\u001b[39;00m\n\u001b[0;32m    <a href='file:///c%3A/Users/APinto/anaconda3/envs/projeto_apspacy/lib/site-packages/thinc/model.py?line=305'>306</a>\u001b[0m \u001b[39m    takes the gradient with respect to the output and an optimizer function,\u001b[39;00m\n\u001b[0;32m    <a href='file:///c%3A/Users/APinto/anaconda3/envs/projeto_apspacy/lib/site-packages/thinc/model.py?line=306'>307</a>\u001b[0m \u001b[39m    and returns the gradient with respect to the input.\u001b[39;00m\n\u001b[0;32m    <a href='file:///c%3A/Users/APinto/anaconda3/envs/projeto_apspacy/lib/site-packages/thinc/model.py?line=307'>308</a>\u001b[0m \u001b[39m    \"\"\"\u001b[39;00m\n\u001b[1;32m--> <a href='file:///c%3A/Users/APinto/anaconda3/envs/projeto_apspacy/lib/site-packages/thinc/model.py?line=308'>309</a>\u001b[0m     \u001b[39mreturn\u001b[39;00m \u001b[39mself\u001b[39;49m\u001b[39m.\u001b[39;49m_func(\u001b[39mself\u001b[39;49m, X, is_train\u001b[39m=\u001b[39;49m\u001b[39mTrue\u001b[39;49;00m)\n",
      "File \u001b[1;32m~\\anaconda3\\envs\\projeto_apspacy\\lib\\site-packages\\thinc\\layers\\chain.py:54\u001b[0m, in \u001b[0;36mforward\u001b[1;34m(model, X, is_train)\u001b[0m\n\u001b[0;32m     <a href='file:///c%3A/Users/APinto/anaconda3/envs/projeto_apspacy/lib/site-packages/thinc/layers/chain.py?line=51'>52</a>\u001b[0m callbacks \u001b[39m=\u001b[39m []\n\u001b[0;32m     <a href='file:///c%3A/Users/APinto/anaconda3/envs/projeto_apspacy/lib/site-packages/thinc/layers/chain.py?line=52'>53</a>\u001b[0m \u001b[39mfor\u001b[39;00m layer \u001b[39min\u001b[39;00m model\u001b[39m.\u001b[39mlayers:\n\u001b[1;32m---> <a href='file:///c%3A/Users/APinto/anaconda3/envs/projeto_apspacy/lib/site-packages/thinc/layers/chain.py?line=53'>54</a>\u001b[0m     Y, inc_layer_grad \u001b[39m=\u001b[39m layer(X, is_train\u001b[39m=\u001b[39;49mis_train)\n\u001b[0;32m     <a href='file:///c%3A/Users/APinto/anaconda3/envs/projeto_apspacy/lib/site-packages/thinc/layers/chain.py?line=54'>55</a>\u001b[0m     callbacks\u001b[39m.\u001b[39mappend(inc_layer_grad)\n\u001b[0;32m     <a href='file:///c%3A/Users/APinto/anaconda3/envs/projeto_apspacy/lib/site-packages/thinc/layers/chain.py?line=55'>56</a>\u001b[0m     X \u001b[39m=\u001b[39m Y\n",
      "File \u001b[1;32m~\\anaconda3\\envs\\projeto_apspacy\\lib\\site-packages\\thinc\\model.py:291\u001b[0m, in \u001b[0;36mModel.__call__\u001b[1;34m(self, X, is_train)\u001b[0m\n\u001b[0;32m    <a href='file:///c%3A/Users/APinto/anaconda3/envs/projeto_apspacy/lib/site-packages/thinc/model.py?line=287'>288</a>\u001b[0m \u001b[39mdef\u001b[39;00m \u001b[39m__call__\u001b[39m(\u001b[39mself\u001b[39m, X: InT, is_train: \u001b[39mbool\u001b[39m) \u001b[39m-\u001b[39m\u001b[39m>\u001b[39m Tuple[OutT, Callable]:\n\u001b[0;32m    <a href='file:///c%3A/Users/APinto/anaconda3/envs/projeto_apspacy/lib/site-packages/thinc/model.py?line=288'>289</a>\u001b[0m     \u001b[39m\"\"\"Call the model's `forward` function, returning the output and a\u001b[39;00m\n\u001b[0;32m    <a href='file:///c%3A/Users/APinto/anaconda3/envs/projeto_apspacy/lib/site-packages/thinc/model.py?line=289'>290</a>\u001b[0m \u001b[39m    callback to compute the gradients via backpropagation.\"\"\"\u001b[39;00m\n\u001b[1;32m--> <a href='file:///c%3A/Users/APinto/anaconda3/envs/projeto_apspacy/lib/site-packages/thinc/model.py?line=290'>291</a>\u001b[0m     \u001b[39mreturn\u001b[39;00m \u001b[39mself\u001b[39;49m\u001b[39m.\u001b[39;49m_func(\u001b[39mself\u001b[39;49m, X, is_train\u001b[39m=\u001b[39;49mis_train)\n",
      "File \u001b[1;32m~\\anaconda3\\envs\\projeto_apspacy\\lib\\site-packages\\thinc\\layers\\resizable.py:27\u001b[0m, in \u001b[0;36mforward\u001b[1;34m(model, X, is_train)\u001b[0m\n\u001b[0;32m     <a href='file:///c%3A/Users/APinto/anaconda3/envs/projeto_apspacy/lib/site-packages/thinc/layers/resizable.py?line=24'>25</a>\u001b[0m \u001b[39mdef\u001b[39;00m \u001b[39mforward\u001b[39m(model: Model[InT, OutT], X: InT, is_train: \u001b[39mbool\u001b[39m):\n\u001b[0;32m     <a href='file:///c%3A/Users/APinto/anaconda3/envs/projeto_apspacy/lib/site-packages/thinc/layers/resizable.py?line=25'>26</a>\u001b[0m     layer \u001b[39m=\u001b[39m model\u001b[39m.\u001b[39mlayers[\u001b[39m0\u001b[39m]\n\u001b[1;32m---> <a href='file:///c%3A/Users/APinto/anaconda3/envs/projeto_apspacy/lib/site-packages/thinc/layers/resizable.py?line=26'>27</a>\u001b[0m     Y, callback \u001b[39m=\u001b[39m layer(X, is_train\u001b[39m=\u001b[39;49mis_train)\n\u001b[0;32m     <a href='file:///c%3A/Users/APinto/anaconda3/envs/projeto_apspacy/lib/site-packages/thinc/layers/resizable.py?line=28'>29</a>\u001b[0m     \u001b[39mdef\u001b[39;00m \u001b[39mbackprop\u001b[39m(dY: OutT) \u001b[39m-\u001b[39m\u001b[39m>\u001b[39m InT:\n\u001b[0;32m     <a href='file:///c%3A/Users/APinto/anaconda3/envs/projeto_apspacy/lib/site-packages/thinc/layers/resizable.py?line=29'>30</a>\u001b[0m         \u001b[39mreturn\u001b[39;00m callback(dY)\n",
      "File \u001b[1;32m~\\anaconda3\\envs\\projeto_apspacy\\lib\\site-packages\\thinc\\model.py:291\u001b[0m, in \u001b[0;36mModel.__call__\u001b[1;34m(self, X, is_train)\u001b[0m\n\u001b[0;32m    <a href='file:///c%3A/Users/APinto/anaconda3/envs/projeto_apspacy/lib/site-packages/thinc/model.py?line=287'>288</a>\u001b[0m \u001b[39mdef\u001b[39;00m \u001b[39m__call__\u001b[39m(\u001b[39mself\u001b[39m, X: InT, is_train: \u001b[39mbool\u001b[39m) \u001b[39m-\u001b[39m\u001b[39m>\u001b[39m Tuple[OutT, Callable]:\n\u001b[0;32m    <a href='file:///c%3A/Users/APinto/anaconda3/envs/projeto_apspacy/lib/site-packages/thinc/model.py?line=288'>289</a>\u001b[0m     \u001b[39m\"\"\"Call the model's `forward` function, returning the output and a\u001b[39;00m\n\u001b[0;32m    <a href='file:///c%3A/Users/APinto/anaconda3/envs/projeto_apspacy/lib/site-packages/thinc/model.py?line=289'>290</a>\u001b[0m \u001b[39m    callback to compute the gradients via backpropagation.\"\"\"\u001b[39;00m\n\u001b[1;32m--> <a href='file:///c%3A/Users/APinto/anaconda3/envs/projeto_apspacy/lib/site-packages/thinc/model.py?line=290'>291</a>\u001b[0m     \u001b[39mreturn\u001b[39;00m \u001b[39mself\u001b[39;49m\u001b[39m.\u001b[39;49m_func(\u001b[39mself\u001b[39;49m, X, is_train\u001b[39m=\u001b[39;49mis_train)\n",
      "File \u001b[1;32m~\\anaconda3\\envs\\projeto_apspacy\\lib\\site-packages\\thinc\\layers\\sparselinear.pyx:43\u001b[0m, in \u001b[0;36mthinc.layers.sparselinear.forward\u001b[1;34m()\u001b[0m\n",
      "File \u001b[1;32m~\\anaconda3\\envs\\projeto_apspacy\\lib\\site-packages\\thinc\\layers\\sparselinear.pyx:68\u001b[0m, in \u001b[0;36mthinc.layers.sparselinear._begin_cpu_update\u001b[1;34m()\u001b[0m\n",
      "File \u001b[1;32m~\\anaconda3\\envs\\projeto_apspacy\\lib\\site-packages\\thinc\\model.py:175\u001b[0m, in \u001b[0;36mModel.get_dim\u001b[1;34m(self, name)\u001b[0m\n\u001b[0;32m    <a href='file:///c%3A/Users/APinto/anaconda3/envs/projeto_apspacy/lib/site-packages/thinc/model.py?line=172'>173</a>\u001b[0m \u001b[39mif\u001b[39;00m value \u001b[39mis\u001b[39;00m \u001b[39mNone\u001b[39;00m:\n\u001b[0;32m    <a href='file:///c%3A/Users/APinto/anaconda3/envs/projeto_apspacy/lib/site-packages/thinc/model.py?line=173'>174</a>\u001b[0m     err \u001b[39m=\u001b[39m \u001b[39mf\u001b[39m\u001b[39m\"\u001b[39m\u001b[39mCannot get dimension \u001b[39m\u001b[39m'\u001b[39m\u001b[39m{\u001b[39;00mname\u001b[39m}\u001b[39;00m\u001b[39m'\u001b[39m\u001b[39m for model \u001b[39m\u001b[39m'\u001b[39m\u001b[39m{\u001b[39;00m\u001b[39mself\u001b[39m\u001b[39m.\u001b[39mname\u001b[39m}\u001b[39;00m\u001b[39m'\u001b[39m\u001b[39m: value unset\u001b[39m\u001b[39m\"\u001b[39m\n\u001b[1;32m--> <a href='file:///c%3A/Users/APinto/anaconda3/envs/projeto_apspacy/lib/site-packages/thinc/model.py?line=174'>175</a>\u001b[0m     \u001b[39mraise\u001b[39;00m \u001b[39mValueError\u001b[39;00m(err)\n\u001b[0;32m    <a href='file:///c%3A/Users/APinto/anaconda3/envs/projeto_apspacy/lib/site-packages/thinc/model.py?line=175'>176</a>\u001b[0m \u001b[39melse\u001b[39;00m:\n\u001b[0;32m    <a href='file:///c%3A/Users/APinto/anaconda3/envs/projeto_apspacy/lib/site-packages/thinc/model.py?line=176'>177</a>\u001b[0m     \u001b[39mreturn\u001b[39;00m value\n",
      "\u001b[1;31mValueError\u001b[0m: Cannot get dimension 'nO' for model 'sparse_linear': value unset"
     ]
    }
   ],
   "source": [
    "# Testing the model\n",
    "test_text=\"I hate the new series of Netflix\"\n",
    "doc=nlp(test_text)\n",
    "doc.cats "
   ]
  },
  {
   "cell_type": "markdown",
   "metadata": {},
   "source": [
    "### Entity Recognition"
   ]
  },
  {
   "cell_type": "code",
   "execution_count": null,
   "metadata": {},
   "outputs": [],
   "source": [
    "# Merge noun phrases and entities for easier analysis\n",
    "# nlp.add_pipe(\"merge_entities\")\n",
    "# nlp.add_pipe(\"merge_noun_chunks\")\n",
    "\n",
    "for doc in nlp.pipe(tweets):\n",
    "    for token in doc:\n",
    "        if token.ent_type_ == \"PER\" or token.ent_type_ == \"ORG\":\n",
    "            print(token.ent_type_, \"-->\", token)"
   ]
  },
  {
   "cell_type": "code",
   "execution_count": null,
   "metadata": {},
   "outputs": [],
   "source": [
    "doc = list(nlp.pipe(tweets))"
   ]
  },
  {
   "cell_type": "code",
   "execution_count": null,
   "metadata": {},
   "outputs": [],
   "source": [
    "for doc in nlp.pipe(tweets):\n",
    "    for token in doc:\n",
    "        if token.ent_type_ == \"PER\" or token.ent_type_ == \"ORG\":\n",
    "            print(token.ent_type_, \"-->\", token)"
   ]
  },
  {
   "cell_type": "code",
   "execution_count": null,
   "metadata": {},
   "outputs": [],
   "source": [
    "displacy.render(doc, style = 'dep')"
   ]
  },
  {
   "cell_type": "markdown",
   "metadata": {},
   "source": [
    "### Sentiment analysis of tweets"
   ]
  },
  {
   "cell_type": "code",
   "execution_count": null,
   "metadata": {},
   "outputs": [],
   "source": [
    "## Hashtags and Emoji Detection"
   ]
  },
  {
   "cell_type": "code",
   "execution_count": null,
   "metadata": {},
   "outputs": [],
   "source": [
    "pos_emoji = [\"😀\", \"😃\", \"😂\", \"🤣\", \"😊\", \"😍\"]  # Positive emoji\n",
    "neg_emoji = [\"😞\", \"😠\", \"😩\", \"😢\", \"😭\", \"😒\"]  # Negative emoji"
   ]
  },
  {
   "cell_type": "code",
   "execution_count": null,
   "metadata": {},
   "outputs": [],
   "source": [
    "pos = [[{'ORTH': emoji}] for emoji in pos_emoji]\n",
    "neg = [[{'ORTH': emoji}] for emoji in neg_emoji]"
   ]
  },
  {
   "cell_type": "code",
   "execution_count": null,
   "metadata": {},
   "outputs": [],
   "source": [
    "matcher = Matcher(nlp.vocab)"
   ]
  },
  {
   "cell_type": "code",
   "execution_count": null,
   "metadata": {},
   "outputs": [],
   "source": [
    "def label_sentiment(matcher, doc, i , matches):\n",
    "    match_id, start, end = matches[i]\n",
    "    if doc.vocab.strings[match_id]== 'happy':\n",
    "        doc.sentiment += 0.1 #cada vez que 1 emoji positivo aparecer soma 0.1\n",
    "    elif doc.vocab.strings[match_id] == 'sad':\n",
    "        doc.sentiment -= 0.1"
   ]
  },
  {
   "cell_type": "code",
   "execution_count": null,
   "metadata": {},
   "outputs": [],
   "source": [
    "#matcher.add(\"happy\", label_sentiment, *pos)\n",
    "matcher.add(\"happy\", [*pos], on_match=label_sentiment)\n",
    "\n",
    "# matcher.add(\"sad\", label_sentiment, *neg)\n",
    "matcher.add(\"sad\", [*neg], on_match=label_sentiment)"
   ]
  },
  {
   "cell_type": "code",
   "execution_count": null,
   "metadata": {},
   "outputs": [],
   "source": [
    "%%timeit #PRINTS WITH SEVEN TUNES\n",
    "docs = nlp.pipe(tweets) # we only want NER\n",
    "\n",
    "for doc in docs:\n",
    "    for ent in doc.ents:\n",
    "        print(ent.text, ent.label_)\n",
    "    print()"
   ]
  },
  {
   "cell_type": "code",
   "execution_count": null,
   "metadata": {},
   "outputs": [],
   "source": [
    "docs"
   ]
  },
  {
   "cell_type": "code",
   "execution_count": null,
   "metadata": {},
   "outputs": [],
   "source": [
    "for i in tweets:\n",
    "    doc = nlp(i)\n",
    "    matches = matcher(doc)\n",
    "    for x in matches:\n",
    "        for match_id, starts, end in x:\n",
    "            string_id = doc.vocab.strings[match_id]\n",
    "            span = doc[start:end]\n",
    "            print(string_id, span.text)\n"
   ]
  },
  {
   "cell_type": "markdown",
   "metadata": {},
   "source": [
    "### CREATE COUNTRIES LABEL in PT"
   ]
  },
  {
   "cell_type": "code",
   "execution_count": null,
   "metadata": {},
   "outputs": [],
   "source": [
    "countries = []\n",
    "capitals = []\n",
    "for i in DATASET:\n",
    "  countries.append(i)\n",
    "  capitals.append(DATASET[i])\n",
    "import pandas as pd\n",
    "df=pd.DataFrame()\n",
    "df['Country'] = countries\n",
    "df['Capital'] = capitals"
   ]
  }
 ],
 "metadata": {
  "interpreter": {
   "hash": "610efb86e122df48aab22117e29509e00a585e4642c6384735721f42f83ab1a2"
  },
  "kernelspec": {
   "display_name": "Python 3.8.13 ('projeto_apspacy')",
   "language": "python",
   "name": "python3"
  },
  "language_info": {
   "codemirror_mode": {
    "name": "ipython",
    "version": 3
   },
   "file_extension": ".py",
   "mimetype": "text/x-python",
   "name": "python",
   "nbconvert_exporter": "python",
   "pygments_lexer": "ipython3",
   "version": "3.8.13"
  },
  "orig_nbformat": 4
 },
 "nbformat": 4,
 "nbformat_minor": 2
}
